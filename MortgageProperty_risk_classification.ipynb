{
  "nbformat": 4,
  "nbformat_minor": 0,
  "metadata": {
    "colab": {
      "provenance": []
    },
    "kernelspec": {
      "display_name": "Python 3",
      "name": "python3"
    },
    "language_info": {
      "name": "python"
    }
  },
  "cells": [
    {
      "cell_type": "markdown",
      "source": [
        "### Mounting data and importing libraries"
      ],
      "metadata": {
        "id": "M-Uru5YsuVrM"
      }
    },
    {
      "cell_type": "code",
      "metadata": {
        "id": "W4s0TQhf_QQh"
      },
      "source": [
        "import numpy as np ## importing libraries here\n",
        "import pandas as pd"
      ],
      "execution_count": null,
      "outputs": []
    },
    {
      "cell_type": "code",
      "source": [
        "from google.colab import drive\n",
        "drive.mount('/content/drive')"
      ],
      "metadata": {
        "colab": {
          "base_uri": "https://localhost:8080/"
        },
        "id": "5ha7ct_dp4WE",
        "outputId": "c61f03b8-a611-4269-fa00-743aaae2e03b"
      },
      "execution_count": null,
      "outputs": [
        {
          "output_type": "stream",
          "name": "stdout",
          "text": [
            "Drive already mounted at /content/drive; to attempt to forcibly remount, call drive.mount(\"/content/drive\", force_remount=True).\n"
          ]
        }
      ]
    },
    {
      "cell_type": "code",
      "source": [
        "ls -al drive/MyDrive"
      ],
      "metadata": {
        "id": "AI31wgi4qA1S"
      },
      "execution_count": null,
      "outputs": []
    },
    {
      "cell_type": "code",
      "source": [
        "pwd"
      ],
      "metadata": {
        "colab": {
          "base_uri": "https://localhost:8080/",
          "height": 35
        },
        "id": "ApOWSC58qA46",
        "outputId": "abbbd134-4187-4667-9eae-63e6919c0d4e"
      },
      "execution_count": null,
      "outputs": [
        {
          "output_type": "execute_result",
          "data": {
            "text/plain": [
              "'/content'"
            ],
            "application/vnd.google.colaboratory.intrinsic+json": {
              "type": "string"
            }
          },
          "metadata": {},
          "execution_count": 4
        }
      ]
    },
    {
      "cell_type": "code",
      "source": [
        "cp -rfp drive/MyDrive/baker_data.zip /content/"
      ],
      "metadata": {
        "id": "F7SNeoMkqOzv"
      },
      "execution_count": null,
      "outputs": []
    },
    {
      "cell_type": "code",
      "source": [
        "ls -al /content"
      ],
      "metadata": {
        "colab": {
          "base_uri": "https://localhost:8080/"
        },
        "id": "56cGoV-4qO27",
        "outputId": "4c648158-a3ce-4583-90fa-9f0a9388acc8"
      },
      "execution_count": null,
      "outputs": [
        {
          "output_type": "stream",
          "name": "stdout",
          "text": [
            "total 1216\n",
            "drwxr-xr-x 1 root root    4096 Nov 16 04:37 \u001b[0m\u001b[01;34m.\u001b[0m/\n",
            "drwxr-xr-x 1 root root    4096 Nov 16 04:34 \u001b[01;34m..\u001b[0m/\n",
            "-rw------- 1 root root 1221859 Feb 12  2022 baker_data.zip\n",
            "drwxr-xr-x 4 root root    4096 Nov 14 14:31 \u001b[01;34m.config\u001b[0m/\n",
            "drwx------ 5 root root    4096 Nov 16 04:36 \u001b[01;34mdrive\u001b[0m/\n",
            "drwxr-xr-x 1 root root    4096 Nov 14 14:32 \u001b[01;34msample_data\u001b[0m/\n"
          ]
        }
      ]
    },
    {
      "cell_type": "code",
      "source": [
        "!unzip /content/baker_data.zip"
      ],
      "metadata": {
        "colab": {
          "base_uri": "https://localhost:8080/"
        },
        "id": "bPiOtjJEqijZ",
        "outputId": "50140507-9144-4709-a5df-3017d569deac"
      },
      "execution_count": null,
      "outputs": [
        {
          "output_type": "stream",
          "name": "stdout",
          "text": [
            "Archive:  /content/baker_data.zip\n",
            "   creating: Data Science Challenge/\n",
            "  inflating: Data Science Challenge/Data Science Challenge Overview.pdf  \n",
            "  inflating: Data Science Challenge/insurance_events - insuranc_event.csv  \n",
            "  inflating: Data Science Challenge/property_insurance_test_data - property_insurance_test_data.csv  \n",
            "  inflating: Data Science Challenge/property_insurance_train_data - property_insurance_train_data.csv  \n"
          ]
        }
      ]
    },
    {
      "cell_type": "code",
      "source": [
        "ls -al"
      ],
      "metadata": {
        "colab": {
          "base_uri": "https://localhost:8080/"
        },
        "id": "FFAHltQOqimt",
        "outputId": "acea285c-db40-4f8b-f8dc-d5ba474e3f02"
      },
      "execution_count": null,
      "outputs": [
        {
          "output_type": "stream",
          "name": "stdout",
          "text": [
            "total 1220\n",
            "drwxr-xr-x 1 root root    4096 Nov 16 04:37  \u001b[0m\u001b[01;34m.\u001b[0m/\n",
            "drwxr-xr-x 1 root root    4096 Nov 16 04:34  \u001b[01;34m..\u001b[0m/\n",
            "-rw------- 1 root root 1221859 Feb 12  2022  baker_data.zip\n",
            "drwxr-xr-x 4 root root    4096 Nov 14 14:31  \u001b[01;34m.config\u001b[0m/\n",
            "drwxr-xr-x 2 root root    4096 Apr 10  2020 \u001b[01;34m'Data Science Challenge'\u001b[0m/\n",
            "drwx------ 5 root root    4096 Nov 16 04:36  \u001b[01;34mdrive\u001b[0m/\n",
            "drwxr-xr-x 1 root root    4096 Nov 14 14:32  \u001b[01;34msample_data\u001b[0m/\n"
          ]
        }
      ]
    },
    {
      "cell_type": "code",
      "source": [
        "ls -al /content/Data\\ Science\\ Challenge/"
      ],
      "metadata": {
        "colab": {
          "base_uri": "https://localhost:8080/"
        },
        "id": "XDTXEkWTq1PM",
        "outputId": "265ab506-3714-4bd8-a592-4a9ade353615"
      },
      "execution_count": null,
      "outputs": [
        {
          "output_type": "stream",
          "name": "stdout",
          "text": [
            "total 9632\n",
            "drwxr-xr-x 2 root root    4096 Apr 10  2020  \u001b[0m\u001b[01;34m.\u001b[0m/\n",
            "drwxr-xr-x 1 root root    4096 Nov 16 04:37  \u001b[01;34m..\u001b[0m/\n",
            "-rw-r--r-- 1 root root   62181 Apr 10  2020 'Data Science Challenge Overview.pdf'\n",
            "-rw-r--r-- 1 root root 4969418 Apr 10  2020 'insurance_events - insuranc_event.csv'\n",
            "-rw-r--r-- 1 root root  940381 Apr 10  2020 'property_insurance_test_data - property_insurance_test_data.csv'\n",
            "-rw-r--r-- 1 root root 3874806 Apr 10  2020 'property_insurance_train_data - property_insurance_train_data.csv'\n"
          ]
        }
      ]
    },
    {
      "cell_type": "code",
      "source": [
        "mv /content/Data\\ Science\\ Challenge /content/data"
      ],
      "metadata": {
        "id": "Px1_A25Iq1Wz"
      },
      "execution_count": null,
      "outputs": []
    },
    {
      "cell_type": "markdown",
      "source": [
        "### Loading insurace events training data"
      ],
      "metadata": {
        "id": "oG44lrzcydmz"
      }
    },
    {
      "cell_type": "code",
      "metadata": {
        "id": "6SWsqwwVSXf2"
      },
      "source": [
        "ins_events = pd.read_csv(\"data/insurance_events - insuranc_event.csv\") # reading training data"
      ],
      "execution_count": null,
      "outputs": []
    },
    {
      "cell_type": "code",
      "metadata": {
        "colab": {
          "base_uri": "https://localhost:8080/",
          "height": 112
        },
        "id": "akfivL9bStFi",
        "outputId": "63cb6b01-4746-4a6b-fda8-694b19971355"
      },
      "source": [
        "ins_events.head(2)"
      ],
      "execution_count": null,
      "outputs": [
        {
          "output_type": "execute_result",
          "data": {
            "text/plain": [
              "   property_id record_date      event_type\n",
              "0        38378  2015-08-14  claim_accepted\n",
              "1        13568  2009-06-29  claim_accepted"
            ],
            "text/html": [
              "\n",
              "  <div id=\"df-098d66a6-1be4-4af3-91d3-9a5c25f50c33\">\n",
              "    <div class=\"colab-df-container\">\n",
              "      <div>\n",
              "<style scoped>\n",
              "    .dataframe tbody tr th:only-of-type {\n",
              "        vertical-align: middle;\n",
              "    }\n",
              "\n",
              "    .dataframe tbody tr th {\n",
              "        vertical-align: top;\n",
              "    }\n",
              "\n",
              "    .dataframe thead th {\n",
              "        text-align: right;\n",
              "    }\n",
              "</style>\n",
              "<table border=\"1\" class=\"dataframe\">\n",
              "  <thead>\n",
              "    <tr style=\"text-align: right;\">\n",
              "      <th></th>\n",
              "      <th>property_id</th>\n",
              "      <th>record_date</th>\n",
              "      <th>event_type</th>\n",
              "    </tr>\n",
              "  </thead>\n",
              "  <tbody>\n",
              "    <tr>\n",
              "      <th>0</th>\n",
              "      <td>38378</td>\n",
              "      <td>2015-08-14</td>\n",
              "      <td>claim_accepted</td>\n",
              "    </tr>\n",
              "    <tr>\n",
              "      <th>1</th>\n",
              "      <td>13568</td>\n",
              "      <td>2009-06-29</td>\n",
              "      <td>claim_accepted</td>\n",
              "    </tr>\n",
              "  </tbody>\n",
              "</table>\n",
              "</div>\n",
              "      <button class=\"colab-df-convert\" onclick=\"convertToInteractive('df-098d66a6-1be4-4af3-91d3-9a5c25f50c33')\"\n",
              "              title=\"Convert this dataframe to an interactive table.\"\n",
              "              style=\"display:none;\">\n",
              "        \n",
              "  <svg xmlns=\"http://www.w3.org/2000/svg\" height=\"24px\"viewBox=\"0 0 24 24\"\n",
              "       width=\"24px\">\n",
              "    <path d=\"M0 0h24v24H0V0z\" fill=\"none\"/>\n",
              "    <path d=\"M18.56 5.44l.94 2.06.94-2.06 2.06-.94-2.06-.94-.94-2.06-.94 2.06-2.06.94zm-11 1L8.5 8.5l.94-2.06 2.06-.94-2.06-.94L8.5 2.5l-.94 2.06-2.06.94zm10 10l.94 2.06.94-2.06 2.06-.94-2.06-.94-.94-2.06-.94 2.06-2.06.94z\"/><path d=\"M17.41 7.96l-1.37-1.37c-.4-.4-.92-.59-1.43-.59-.52 0-1.04.2-1.43.59L10.3 9.45l-7.72 7.72c-.78.78-.78 2.05 0 2.83L4 21.41c.39.39.9.59 1.41.59.51 0 1.02-.2 1.41-.59l7.78-7.78 2.81-2.81c.8-.78.8-2.07 0-2.86zM5.41 20L4 18.59l7.72-7.72 1.47 1.35L5.41 20z\"/>\n",
              "  </svg>\n",
              "      </button>\n",
              "      \n",
              "  <style>\n",
              "    .colab-df-container {\n",
              "      display:flex;\n",
              "      flex-wrap:wrap;\n",
              "      gap: 12px;\n",
              "    }\n",
              "\n",
              "    .colab-df-convert {\n",
              "      background-color: #E8F0FE;\n",
              "      border: none;\n",
              "      border-radius: 50%;\n",
              "      cursor: pointer;\n",
              "      display: none;\n",
              "      fill: #1967D2;\n",
              "      height: 32px;\n",
              "      padding: 0 0 0 0;\n",
              "      width: 32px;\n",
              "    }\n",
              "\n",
              "    .colab-df-convert:hover {\n",
              "      background-color: #E2EBFA;\n",
              "      box-shadow: 0px 1px 2px rgba(60, 64, 67, 0.3), 0px 1px 3px 1px rgba(60, 64, 67, 0.15);\n",
              "      fill: #174EA6;\n",
              "    }\n",
              "\n",
              "    [theme=dark] .colab-df-convert {\n",
              "      background-color: #3B4455;\n",
              "      fill: #D2E3FC;\n",
              "    }\n",
              "\n",
              "    [theme=dark] .colab-df-convert:hover {\n",
              "      background-color: #434B5C;\n",
              "      box-shadow: 0px 1px 3px 1px rgba(0, 0, 0, 0.15);\n",
              "      filter: drop-shadow(0px 1px 2px rgba(0, 0, 0, 0.3));\n",
              "      fill: #FFFFFF;\n",
              "    }\n",
              "  </style>\n",
              "\n",
              "      <script>\n",
              "        const buttonEl =\n",
              "          document.querySelector('#df-098d66a6-1be4-4af3-91d3-9a5c25f50c33 button.colab-df-convert');\n",
              "        buttonEl.style.display =\n",
              "          google.colab.kernel.accessAllowed ? 'block' : 'none';\n",
              "\n",
              "        async function convertToInteractive(key) {\n",
              "          const element = document.querySelector('#df-098d66a6-1be4-4af3-91d3-9a5c25f50c33');\n",
              "          const dataTable =\n",
              "            await google.colab.kernel.invokeFunction('convertToInteractive',\n",
              "                                                     [key], {});\n",
              "          if (!dataTable) return;\n",
              "\n",
              "          const docLinkHtml = 'Like what you see? Visit the ' +\n",
              "            '<a target=\"_blank\" href=https://colab.research.google.com/notebooks/data_table.ipynb>data table notebook</a>'\n",
              "            + ' to learn more about interactive tables.';\n",
              "          element.innerHTML = '';\n",
              "          dataTable['output_type'] = 'display_data';\n",
              "          await google.colab.output.renderOutput(dataTable, element);\n",
              "          const docLink = document.createElement('div');\n",
              "          docLink.innerHTML = docLinkHtml;\n",
              "          element.appendChild(docLink);\n",
              "        }\n",
              "      </script>\n",
              "    </div>\n",
              "  </div>\n",
              "  "
            ]
          },
          "metadata": {},
          "execution_count": 12
        }
      ]
    },
    {
      "cell_type": "code",
      "metadata": {
        "colab": {
          "base_uri": "https://localhost:8080/"
        },
        "id": "7zuI7fTsT46X",
        "outputId": "19a0ca5e-c588-4902-fd90-ec4162f8577e"
      },
      "source": [
        "ins_events.shape"
      ],
      "execution_count": null,
      "outputs": [
        {
          "output_type": "execute_result",
          "data": {
            "text/plain": [
              "(148450, 3)"
            ]
          },
          "metadata": {},
          "execution_count": 13
        }
      ]
    },
    {
      "cell_type": "markdown",
      "source": [
        "### Loading property data"
      ],
      "metadata": {
        "id": "lA2J0VZuyxTA"
      }
    },
    {
      "cell_type": "code",
      "metadata": {
        "id": "hLD7DWXaSvJ4"
      },
      "source": [
        "ins_prop_data = pd.read_csv(\"data/property_insurance_train_data - property_insurance_train_data.csv\")"
      ],
      "execution_count": null,
      "outputs": []
    },
    {
      "cell_type": "code",
      "metadata": {
        "colab": {
          "base_uri": "https://localhost:8080/",
          "height": 211
        },
        "id": "squl0wAeS59Q",
        "outputId": "3d50f525-ee49-4535-c43b-79997e610dce"
      },
      "source": [
        "ins_prop_data.head(2)"
      ],
      "execution_count": null,
      "outputs": [
        {
          "output_type": "execute_result",
          "data": {
            "text/plain": [
              "   property_id state  zipcode  county_fips  total_bath_count  year_built  \\\n",
              "0            0    AZ    85042       4013.0              3.67      2005.0   \n",
              "1            1    AZ    85037       4013.0              3.00      1975.0   \n",
              "\n",
              "   building_area_sq_ft              property_type exterior_walls water sewer  \\\n",
              "0               2121.0  Single Family Residential           wood   NaN   NaN   \n",
              "1               1783.0  Single Family Residential           wood   NaN   NaN   \n",
              "\n",
              "  heating heating_fuel_type fireplace style garage_type_parking  claims_amount  \n",
              "0     yes               NaN     False   NaN              garage            0.0  \n",
              "1     yes               NaN     False   NaN                 NaN            0.0  "
            ],
            "text/html": [
              "\n",
              "  <div id=\"df-7e2f9420-8403-41ae-b566-66b6ba302773\">\n",
              "    <div class=\"colab-df-container\">\n",
              "      <div>\n",
              "<style scoped>\n",
              "    .dataframe tbody tr th:only-of-type {\n",
              "        vertical-align: middle;\n",
              "    }\n",
              "\n",
              "    .dataframe tbody tr th {\n",
              "        vertical-align: top;\n",
              "    }\n",
              "\n",
              "    .dataframe thead th {\n",
              "        text-align: right;\n",
              "    }\n",
              "</style>\n",
              "<table border=\"1\" class=\"dataframe\">\n",
              "  <thead>\n",
              "    <tr style=\"text-align: right;\">\n",
              "      <th></th>\n",
              "      <th>property_id</th>\n",
              "      <th>state</th>\n",
              "      <th>zipcode</th>\n",
              "      <th>county_fips</th>\n",
              "      <th>total_bath_count</th>\n",
              "      <th>year_built</th>\n",
              "      <th>building_area_sq_ft</th>\n",
              "      <th>property_type</th>\n",
              "      <th>exterior_walls</th>\n",
              "      <th>water</th>\n",
              "      <th>sewer</th>\n",
              "      <th>heating</th>\n",
              "      <th>heating_fuel_type</th>\n",
              "      <th>fireplace</th>\n",
              "      <th>style</th>\n",
              "      <th>garage_type_parking</th>\n",
              "      <th>claims_amount</th>\n",
              "    </tr>\n",
              "  </thead>\n",
              "  <tbody>\n",
              "    <tr>\n",
              "      <th>0</th>\n",
              "      <td>0</td>\n",
              "      <td>AZ</td>\n",
              "      <td>85042</td>\n",
              "      <td>4013.0</td>\n",
              "      <td>3.67</td>\n",
              "      <td>2005.0</td>\n",
              "      <td>2121.0</td>\n",
              "      <td>Single Family Residential</td>\n",
              "      <td>wood</td>\n",
              "      <td>NaN</td>\n",
              "      <td>NaN</td>\n",
              "      <td>yes</td>\n",
              "      <td>NaN</td>\n",
              "      <td>False</td>\n",
              "      <td>NaN</td>\n",
              "      <td>garage</td>\n",
              "      <td>0.0</td>\n",
              "    </tr>\n",
              "    <tr>\n",
              "      <th>1</th>\n",
              "      <td>1</td>\n",
              "      <td>AZ</td>\n",
              "      <td>85037</td>\n",
              "      <td>4013.0</td>\n",
              "      <td>3.00</td>\n",
              "      <td>1975.0</td>\n",
              "      <td>1783.0</td>\n",
              "      <td>Single Family Residential</td>\n",
              "      <td>wood</td>\n",
              "      <td>NaN</td>\n",
              "      <td>NaN</td>\n",
              "      <td>yes</td>\n",
              "      <td>NaN</td>\n",
              "      <td>False</td>\n",
              "      <td>NaN</td>\n",
              "      <td>NaN</td>\n",
              "      <td>0.0</td>\n",
              "    </tr>\n",
              "  </tbody>\n",
              "</table>\n",
              "</div>\n",
              "      <button class=\"colab-df-convert\" onclick=\"convertToInteractive('df-7e2f9420-8403-41ae-b566-66b6ba302773')\"\n",
              "              title=\"Convert this dataframe to an interactive table.\"\n",
              "              style=\"display:none;\">\n",
              "        \n",
              "  <svg xmlns=\"http://www.w3.org/2000/svg\" height=\"24px\"viewBox=\"0 0 24 24\"\n",
              "       width=\"24px\">\n",
              "    <path d=\"M0 0h24v24H0V0z\" fill=\"none\"/>\n",
              "    <path d=\"M18.56 5.44l.94 2.06.94-2.06 2.06-.94-2.06-.94-.94-2.06-.94 2.06-2.06.94zm-11 1L8.5 8.5l.94-2.06 2.06-.94-2.06-.94L8.5 2.5l-.94 2.06-2.06.94zm10 10l.94 2.06.94-2.06 2.06-.94-2.06-.94-.94-2.06-.94 2.06-2.06.94z\"/><path d=\"M17.41 7.96l-1.37-1.37c-.4-.4-.92-.59-1.43-.59-.52 0-1.04.2-1.43.59L10.3 9.45l-7.72 7.72c-.78.78-.78 2.05 0 2.83L4 21.41c.39.39.9.59 1.41.59.51 0 1.02-.2 1.41-.59l7.78-7.78 2.81-2.81c.8-.78.8-2.07 0-2.86zM5.41 20L4 18.59l7.72-7.72 1.47 1.35L5.41 20z\"/>\n",
              "  </svg>\n",
              "      </button>\n",
              "      \n",
              "  <style>\n",
              "    .colab-df-container {\n",
              "      display:flex;\n",
              "      flex-wrap:wrap;\n",
              "      gap: 12px;\n",
              "    }\n",
              "\n",
              "    .colab-df-convert {\n",
              "      background-color: #E8F0FE;\n",
              "      border: none;\n",
              "      border-radius: 50%;\n",
              "      cursor: pointer;\n",
              "      display: none;\n",
              "      fill: #1967D2;\n",
              "      height: 32px;\n",
              "      padding: 0 0 0 0;\n",
              "      width: 32px;\n",
              "    }\n",
              "\n",
              "    .colab-df-convert:hover {\n",
              "      background-color: #E2EBFA;\n",
              "      box-shadow: 0px 1px 2px rgba(60, 64, 67, 0.3), 0px 1px 3px 1px rgba(60, 64, 67, 0.15);\n",
              "      fill: #174EA6;\n",
              "    }\n",
              "\n",
              "    [theme=dark] .colab-df-convert {\n",
              "      background-color: #3B4455;\n",
              "      fill: #D2E3FC;\n",
              "    }\n",
              "\n",
              "    [theme=dark] .colab-df-convert:hover {\n",
              "      background-color: #434B5C;\n",
              "      box-shadow: 0px 1px 3px 1px rgba(0, 0, 0, 0.15);\n",
              "      filter: drop-shadow(0px 1px 2px rgba(0, 0, 0, 0.3));\n",
              "      fill: #FFFFFF;\n",
              "    }\n",
              "  </style>\n",
              "\n",
              "      <script>\n",
              "        const buttonEl =\n",
              "          document.querySelector('#df-7e2f9420-8403-41ae-b566-66b6ba302773 button.colab-df-convert');\n",
              "        buttonEl.style.display =\n",
              "          google.colab.kernel.accessAllowed ? 'block' : 'none';\n",
              "\n",
              "        async function convertToInteractive(key) {\n",
              "          const element = document.querySelector('#df-7e2f9420-8403-41ae-b566-66b6ba302773');\n",
              "          const dataTable =\n",
              "            await google.colab.kernel.invokeFunction('convertToInteractive',\n",
              "                                                     [key], {});\n",
              "          if (!dataTable) return;\n",
              "\n",
              "          const docLinkHtml = 'Like what you see? Visit the ' +\n",
              "            '<a target=\"_blank\" href=https://colab.research.google.com/notebooks/data_table.ipynb>data table notebook</a>'\n",
              "            + ' to learn more about interactive tables.';\n",
              "          element.innerHTML = '';\n",
              "          dataTable['output_type'] = 'display_data';\n",
              "          await google.colab.output.renderOutput(dataTable, element);\n",
              "          const docLink = document.createElement('div');\n",
              "          docLink.innerHTML = docLinkHtml;\n",
              "          element.appendChild(docLink);\n",
              "        }\n",
              "      </script>\n",
              "    </div>\n",
              "  </div>\n",
              "  "
            ]
          },
          "metadata": {},
          "execution_count": 15
        }
      ]
    },
    {
      "cell_type": "markdown",
      "source": [
        "### Checking shape of the data, total 40k records"
      ],
      "metadata": {
        "id": "w5CseO0TzItc"
      }
    },
    {
      "cell_type": "code",
      "metadata": {
        "colab": {
          "base_uri": "https://localhost:8080/"
        },
        "id": "-_20scdvTxXf",
        "outputId": "c6e860e3-06e5-48ec-b835-a81ed71f1828"
      },
      "source": [
        "ins_prop_data.shape  # checking data frame shape"
      ],
      "execution_count": null,
      "outputs": [
        {
          "output_type": "execute_result",
          "data": {
            "text/plain": [
              "(40000, 17)"
            ]
          },
          "metadata": {},
          "execution_count": 16
        }
      ]
    },
    {
      "cell_type": "markdown",
      "source": [
        "### Checking null values"
      ],
      "metadata": {
        "id": "v8iJwW9MzTZR"
      }
    },
    {
      "cell_type": "code",
      "metadata": {
        "colab": {
          "base_uri": "https://localhost:8080/"
        },
        "id": "mlDpfK707ppG",
        "outputId": "10432f7f-5f86-4797-9aa7-bdddd7287f86"
      },
      "source": [
        "ins_prop_data.isnull().sum()"
      ],
      "execution_count": null,
      "outputs": [
        {
          "output_type": "execute_result",
          "data": {
            "text/plain": [
              "property_id                0\n",
              "state                      0\n",
              "zipcode                    0\n",
              "county_fips               17\n",
              "total_bath_count        3412\n",
              "year_built              1207\n",
              "building_area_sq_ft      602\n",
              "property_type            602\n",
              "exterior_walls         15468\n",
              "water                  31332\n",
              "sewer                  31772\n",
              "heating                 8782\n",
              "heating_fuel_type      31622\n",
              "fireplace                602\n",
              "style                  35488\n",
              "garage_type_parking     8829\n",
              "claims_amount              0\n",
              "dtype: int64"
            ]
          },
          "metadata": {},
          "execution_count": 17
        }
      ]
    },
    {
      "cell_type": "code",
      "metadata": {
        "id": "hl-2ou1u71JE"
      },
      "source": [
        "id_cnt = ins_prop_data['property_id'].unique()"
      ],
      "execution_count": null,
      "outputs": []
    },
    {
      "cell_type": "code",
      "metadata": {
        "colab": {
          "base_uri": "https://localhost:8080/"
        },
        "id": "anhIU5iw71Mz",
        "outputId": "89c3f731-90e3-4063-d8a5-050d4632a355"
      },
      "source": [
        "len(id_cnt)"
      ],
      "execution_count": null,
      "outputs": [
        {
          "output_type": "execute_result",
          "data": {
            "text/plain": [
              "40000"
            ]
          },
          "metadata": {},
          "execution_count": 19
        }
      ]
    },
    {
      "cell_type": "markdown",
      "source": [
        "### Combining insurace events data with property data on property_id column"
      ],
      "metadata": {
        "id": "dm4uZnIFzag9"
      }
    },
    {
      "cell_type": "code",
      "metadata": {
        "id": "PSnhpuz2S-ZX"
      },
      "source": [
        "property_data = pd.merge(ins_prop_data,ins_events,how='left',on=\"property_id\") # merging 2 csvs here.."
      ],
      "execution_count": null,
      "outputs": []
    },
    {
      "cell_type": "code",
      "metadata": {
        "colab": {
          "base_uri": "https://localhost:8080/"
        },
        "id": "49y4hP43UJM6",
        "outputId": "9386702f-8f32-4fec-dfe1-ed62c3bbdee1"
      },
      "source": [
        "property_data.shape"
      ],
      "execution_count": null,
      "outputs": [
        {
          "output_type": "execute_result",
          "data": {
            "text/plain": [
              "(120448, 19)"
            ]
          },
          "metadata": {},
          "execution_count": 21
        }
      ]
    },
    {
      "cell_type": "code",
      "metadata": {
        "id": "p8qfX3ww5U2l"
      },
      "source": [
        "id_cnt1 = property_data['property_id'].unique()"
      ],
      "execution_count": null,
      "outputs": []
    },
    {
      "cell_type": "code",
      "metadata": {
        "colab": {
          "base_uri": "https://localhost:8080/"
        },
        "id": "mYrG7qWD8MmC",
        "outputId": "482821da-7424-427d-ecd3-816f9a5d1bdd"
      },
      "source": [
        "len(id_cnt1)"
      ],
      "execution_count": null,
      "outputs": [
        {
          "output_type": "execute_result",
          "data": {
            "text/plain": [
              "40000"
            ]
          },
          "metadata": {},
          "execution_count": 23
        }
      ]
    },
    {
      "cell_type": "markdown",
      "source": [
        "### Checking duplicate values"
      ],
      "metadata": {
        "id": "B0rZBg0czksx"
      }
    },
    {
      "cell_type": "code",
      "metadata": {
        "id": "-ylyiK5O8Mp_"
      },
      "source": [
        "property_data.sort_values('property_id',inplace=True)"
      ],
      "execution_count": null,
      "outputs": []
    },
    {
      "cell_type": "code",
      "metadata": {
        "id": "Q7r0l3719oF5"
      },
      "source": [
        "property_data.drop_duplicates(\"property_id\",inplace = True)"
      ],
      "execution_count": null,
      "outputs": []
    },
    {
      "cell_type": "code",
      "metadata": {
        "colab": {
          "base_uri": "https://localhost:8080/"
        },
        "id": "NAZvCcDl9oJY",
        "outputId": "d40b71fc-809c-4ff7-8ce1-78db59f24716"
      },
      "source": [
        "property_data.shape"
      ],
      "execution_count": null,
      "outputs": [
        {
          "output_type": "execute_result",
          "data": {
            "text/plain": [
              "(40000, 19)"
            ]
          },
          "metadata": {},
          "execution_count": 26
        }
      ]
    },
    {
      "cell_type": "code",
      "metadata": {
        "colab": {
          "base_uri": "https://localhost:8080/",
          "height": 211
        },
        "id": "VfCDJ4nMTn-L",
        "outputId": "770cb23a-5934-4d06-aae4-3d9e3c18faae"
      },
      "source": [
        "property_data.head(2)"
      ],
      "execution_count": null,
      "outputs": [
        {
          "output_type": "execute_result",
          "data": {
            "text/plain": [
              "   property_id state  zipcode  county_fips  total_bath_count  year_built  \\\n",
              "0            0    AZ    85042       4013.0              3.67      2005.0   \n",
              "5            1    AZ    85037       4013.0              3.00      1975.0   \n",
              "\n",
              "   building_area_sq_ft              property_type exterior_walls water sewer  \\\n",
              "0               2121.0  Single Family Residential           wood   NaN   NaN   \n",
              "5               1783.0  Single Family Residential           wood   NaN   NaN   \n",
              "\n",
              "  heating heating_fuel_type fireplace style garage_type_parking  \\\n",
              "0     yes               NaN     False   NaN              garage   \n",
              "5     yes               NaN     False   NaN                 NaN   \n",
              "\n",
              "   claims_amount record_date      event_type  \n",
              "0            0.0  2007-06-06  claim_accepted  \n",
              "5            0.0  2005-08-10  claim_accepted  "
            ],
            "text/html": [
              "\n",
              "  <div id=\"df-f138dba7-2d32-47aa-8662-7029fd99d525\">\n",
              "    <div class=\"colab-df-container\">\n",
              "      <div>\n",
              "<style scoped>\n",
              "    .dataframe tbody tr th:only-of-type {\n",
              "        vertical-align: middle;\n",
              "    }\n",
              "\n",
              "    .dataframe tbody tr th {\n",
              "        vertical-align: top;\n",
              "    }\n",
              "\n",
              "    .dataframe thead th {\n",
              "        text-align: right;\n",
              "    }\n",
              "</style>\n",
              "<table border=\"1\" class=\"dataframe\">\n",
              "  <thead>\n",
              "    <tr style=\"text-align: right;\">\n",
              "      <th></th>\n",
              "      <th>property_id</th>\n",
              "      <th>state</th>\n",
              "      <th>zipcode</th>\n",
              "      <th>county_fips</th>\n",
              "      <th>total_bath_count</th>\n",
              "      <th>year_built</th>\n",
              "      <th>building_area_sq_ft</th>\n",
              "      <th>property_type</th>\n",
              "      <th>exterior_walls</th>\n",
              "      <th>water</th>\n",
              "      <th>sewer</th>\n",
              "      <th>heating</th>\n",
              "      <th>heating_fuel_type</th>\n",
              "      <th>fireplace</th>\n",
              "      <th>style</th>\n",
              "      <th>garage_type_parking</th>\n",
              "      <th>claims_amount</th>\n",
              "      <th>record_date</th>\n",
              "      <th>event_type</th>\n",
              "    </tr>\n",
              "  </thead>\n",
              "  <tbody>\n",
              "    <tr>\n",
              "      <th>0</th>\n",
              "      <td>0</td>\n",
              "      <td>AZ</td>\n",
              "      <td>85042</td>\n",
              "      <td>4013.0</td>\n",
              "      <td>3.67</td>\n",
              "      <td>2005.0</td>\n",
              "      <td>2121.0</td>\n",
              "      <td>Single Family Residential</td>\n",
              "      <td>wood</td>\n",
              "      <td>NaN</td>\n",
              "      <td>NaN</td>\n",
              "      <td>yes</td>\n",
              "      <td>NaN</td>\n",
              "      <td>False</td>\n",
              "      <td>NaN</td>\n",
              "      <td>garage</td>\n",
              "      <td>0.0</td>\n",
              "      <td>2007-06-06</td>\n",
              "      <td>claim_accepted</td>\n",
              "    </tr>\n",
              "    <tr>\n",
              "      <th>5</th>\n",
              "      <td>1</td>\n",
              "      <td>AZ</td>\n",
              "      <td>85037</td>\n",
              "      <td>4013.0</td>\n",
              "      <td>3.00</td>\n",
              "      <td>1975.0</td>\n",
              "      <td>1783.0</td>\n",
              "      <td>Single Family Residential</td>\n",
              "      <td>wood</td>\n",
              "      <td>NaN</td>\n",
              "      <td>NaN</td>\n",
              "      <td>yes</td>\n",
              "      <td>NaN</td>\n",
              "      <td>False</td>\n",
              "      <td>NaN</td>\n",
              "      <td>NaN</td>\n",
              "      <td>0.0</td>\n",
              "      <td>2005-08-10</td>\n",
              "      <td>claim_accepted</td>\n",
              "    </tr>\n",
              "  </tbody>\n",
              "</table>\n",
              "</div>\n",
              "      <button class=\"colab-df-convert\" onclick=\"convertToInteractive('df-f138dba7-2d32-47aa-8662-7029fd99d525')\"\n",
              "              title=\"Convert this dataframe to an interactive table.\"\n",
              "              style=\"display:none;\">\n",
              "        \n",
              "  <svg xmlns=\"http://www.w3.org/2000/svg\" height=\"24px\"viewBox=\"0 0 24 24\"\n",
              "       width=\"24px\">\n",
              "    <path d=\"M0 0h24v24H0V0z\" fill=\"none\"/>\n",
              "    <path d=\"M18.56 5.44l.94 2.06.94-2.06 2.06-.94-2.06-.94-.94-2.06-.94 2.06-2.06.94zm-11 1L8.5 8.5l.94-2.06 2.06-.94-2.06-.94L8.5 2.5l-.94 2.06-2.06.94zm10 10l.94 2.06.94-2.06 2.06-.94-2.06-.94-.94-2.06-.94 2.06-2.06.94z\"/><path d=\"M17.41 7.96l-1.37-1.37c-.4-.4-.92-.59-1.43-.59-.52 0-1.04.2-1.43.59L10.3 9.45l-7.72 7.72c-.78.78-.78 2.05 0 2.83L4 21.41c.39.39.9.59 1.41.59.51 0 1.02-.2 1.41-.59l7.78-7.78 2.81-2.81c.8-.78.8-2.07 0-2.86zM5.41 20L4 18.59l7.72-7.72 1.47 1.35L5.41 20z\"/>\n",
              "  </svg>\n",
              "      </button>\n",
              "      \n",
              "  <style>\n",
              "    .colab-df-container {\n",
              "      display:flex;\n",
              "      flex-wrap:wrap;\n",
              "      gap: 12px;\n",
              "    }\n",
              "\n",
              "    .colab-df-convert {\n",
              "      background-color: #E8F0FE;\n",
              "      border: none;\n",
              "      border-radius: 50%;\n",
              "      cursor: pointer;\n",
              "      display: none;\n",
              "      fill: #1967D2;\n",
              "      height: 32px;\n",
              "      padding: 0 0 0 0;\n",
              "      width: 32px;\n",
              "    }\n",
              "\n",
              "    .colab-df-convert:hover {\n",
              "      background-color: #E2EBFA;\n",
              "      box-shadow: 0px 1px 2px rgba(60, 64, 67, 0.3), 0px 1px 3px 1px rgba(60, 64, 67, 0.15);\n",
              "      fill: #174EA6;\n",
              "    }\n",
              "\n",
              "    [theme=dark] .colab-df-convert {\n",
              "      background-color: #3B4455;\n",
              "      fill: #D2E3FC;\n",
              "    }\n",
              "\n",
              "    [theme=dark] .colab-df-convert:hover {\n",
              "      background-color: #434B5C;\n",
              "      box-shadow: 0px 1px 3px 1px rgba(0, 0, 0, 0.15);\n",
              "      filter: drop-shadow(0px 1px 2px rgba(0, 0, 0, 0.3));\n",
              "      fill: #FFFFFF;\n",
              "    }\n",
              "  </style>\n",
              "\n",
              "      <script>\n",
              "        const buttonEl =\n",
              "          document.querySelector('#df-f138dba7-2d32-47aa-8662-7029fd99d525 button.colab-df-convert');\n",
              "        buttonEl.style.display =\n",
              "          google.colab.kernel.accessAllowed ? 'block' : 'none';\n",
              "\n",
              "        async function convertToInteractive(key) {\n",
              "          const element = document.querySelector('#df-f138dba7-2d32-47aa-8662-7029fd99d525');\n",
              "          const dataTable =\n",
              "            await google.colab.kernel.invokeFunction('convertToInteractive',\n",
              "                                                     [key], {});\n",
              "          if (!dataTable) return;\n",
              "\n",
              "          const docLinkHtml = 'Like what you see? Visit the ' +\n",
              "            '<a target=\"_blank\" href=https://colab.research.google.com/notebooks/data_table.ipynb>data table notebook</a>'\n",
              "            + ' to learn more about interactive tables.';\n",
              "          element.innerHTML = '';\n",
              "          dataTable['output_type'] = 'display_data';\n",
              "          await google.colab.output.renderOutput(dataTable, element);\n",
              "          const docLink = document.createElement('div');\n",
              "          docLink.innerHTML = docLinkHtml;\n",
              "          element.appendChild(docLink);\n",
              "        }\n",
              "      </script>\n",
              "    </div>\n",
              "  </div>\n",
              "  "
            ]
          },
          "metadata": {},
          "execution_count": 27
        }
      ]
    },
    {
      "cell_type": "markdown",
      "source": [
        "### Boxplot of 'claims_amount' feature for checking the range of values and identifying outliers"
      ],
      "metadata": {
        "id": "aWP5-7Sdzrcv"
      }
    },
    {
      "cell_type": "code",
      "metadata": {
        "colab": {
          "base_uri": "https://localhost:8080/",
          "height": 266
        },
        "id": "RBvtq_o9TqLK",
        "outputId": "e02e31dc-3a4c-4ea1-c30b-a40e0d33c5e4"
      },
      "source": [
        "boxplot = property_data.boxplot(column=['claims_amount']) # Box plot for checking the range of values and outlier"
      ],
      "execution_count": null,
      "outputs": [
        {
          "output_type": "display_data",
          "data": {
            "text/plain": [
              "<Figure size 432x288 with 1 Axes>"
            ],
            "image/png": "[encoded data removed]"
          },
          "metadata": {
            "needs_background": "light"
          }
        }
      ]
    },
    {
      "cell_type": "markdown",
      "source": [
        "### Statistics of claims_amount value"
      ],
      "metadata": {
        "id": "mc0oZGT1z4Mv"
      }
    },
    {
      "cell_type": "code",
      "metadata": {
        "colab": {
          "base_uri": "https://localhost:8080/"
        },
        "id": "Qph7qjG3YF86",
        "outputId": "2a5bd523-661e-484a-b637-323dadde1431"
      },
      "source": [
        "property_data['claims_amount'].describe()"
      ],
      "execution_count": null,
      "outputs": [
        {
          "output_type": "execute_result",
          "data": {
            "text/plain": [
              "count     40000.000000\n",
              "mean       1110.585464\n",
              "std       12576.501964\n",
              "min           0.000000\n",
              "25%           0.000000\n",
              "50%           0.000000\n",
              "75%           0.000000\n",
              "max      850977.600000\n",
              "Name: claims_amount, dtype: float64"
            ]
          },
          "metadata": {},
          "execution_count": 29
        }
      ]
    },
    {
      "cell_type": "code",
      "metadata": {
        "colab": {
          "base_uri": "https://localhost:8080/",
          "height": 316
        },
        "id": "sMLZTXw-P3F7",
        "outputId": "77d86040-4003-443b-d040-132a02782538"
      },
      "source": [
        "property_data.hist(column = 'claims_amount')"
      ],
      "execution_count": null,
      "outputs": [
        {
          "output_type": "execute_result",
          "data": {
            "text/plain": [
              "array([[<matplotlib.axes._subplots.AxesSubplot object at 0x7f3353978350>]],\n",
              "      dtype=object)"
            ]
          },
          "metadata": {},
          "execution_count": 30
        },
        {
          "output_type": "display_data",
          "data": {
            "text/plain": [
              "<Figure size 432x288 with 1 Axes>"
            ],
            "image/png": "[encoded data removed]"
          },
          "metadata": {
            "needs_background": "light"
          }
        }
      ]
    },
    {
      "cell_type": "code",
      "metadata": {
        "id": "ZCyENYPr3V53"
      },
      "source": [
        "import matplotlib.pyplot as plt\n",
        "import seaborn as sns"
      ],
      "execution_count": null,
      "outputs": []
    },
    {
      "cell_type": "markdown",
      "source": [
        "### Checking available features on combined data"
      ],
      "metadata": {
        "id": "YghoiaPF0Cxu"
      }
    },
    {
      "cell_type": "code",
      "metadata": {
        "colab": {
          "base_uri": "https://localhost:8080/"
        },
        "id": "TwCIaM1Z1loT",
        "outputId": "19069811-1933-46ae-b5aa-8d05adc9ddd5"
      },
      "source": [
        "property_data.info()"
      ],
      "execution_count": null,
      "outputs": [
        {
          "output_type": "stream",
          "name": "stdout",
          "text": [
            "<class 'pandas.core.frame.DataFrame'>\n",
            "Int64Index: 40000 entries, 0 to 120447\n",
            "Data columns (total 19 columns):\n",
            " #   Column               Non-Null Count  Dtype  \n",
            "---  ------               --------------  -----  \n",
            " 0   property_id          40000 non-null  int64  \n",
            " 1   state                40000 non-null  object \n",
            " 2   zipcode              40000 non-null  int64  \n",
            " 3   county_fips          39983 non-null  float64\n",
            " 4   total_bath_count     36588 non-null  float64\n",
            " 5   year_built           38793 non-null  float64\n",
            " 6   building_area_sq_ft  39398 non-null  float64\n",
            " 7   property_type        39398 non-null  object \n",
            " 8   exterior_walls       24532 non-null  object \n",
            " 9   water                8668 non-null   object \n",
            " 10  sewer                8228 non-null   object \n",
            " 11  heating              31218 non-null  object \n",
            " 12  heating_fuel_type    8378 non-null   object \n",
            " 13  fireplace            39398 non-null  object \n",
            " 14  style                4512 non-null   object \n",
            " 15  garage_type_parking  31171 non-null  object \n",
            " 16  claims_amount        40000 non-null  float64\n",
            " 17  record_date          38524 non-null  object \n",
            " 18  event_type           38522 non-null  object \n",
            "dtypes: float64(5), int64(2), object(12)\n",
            "memory usage: 6.1+ MB\n"
          ]
        }
      ]
    },
    {
      "cell_type": "code",
      "metadata": {
        "colab": {
          "base_uri": "https://localhost:8080/"
        },
        "id": "s2ALI5lr_ZYC",
        "outputId": "98a32934-55cc-4c59-f41c-21ee729116fd"
      },
      "source": [
        "property_data['claims_amount'].value_counts()"
      ],
      "execution_count": null,
      "outputs": [
        {
          "output_type": "execute_result",
          "data": {
            "text/plain": [
              "0.000000       36000\n",
              "500.000000        35\n",
              "25.000000          7\n",
              "100.000000         7\n",
              "1000.000000        6\n",
              "               ...  \n",
              "1285.010000        1\n",
              "2103.410000        1\n",
              "1819.450000        1\n",
              "1082.285958        1\n",
              "4493.640000        1\n",
              "Name: claims_amount, Length: 3821, dtype: int64"
            ]
          },
          "metadata": {},
          "execution_count": 33
        }
      ]
    },
    {
      "cell_type": "code",
      "metadata": {
        "id": "LHGbKy-V_Zdc"
      },
      "source": [
        "cnts = property_data['claims_amount'].value_counts()"
      ],
      "execution_count": null,
      "outputs": []
    },
    {
      "cell_type": "code",
      "metadata": {
        "colab": {
          "base_uri": "https://localhost:8080/"
        },
        "id": "9ga9W7OB37xt",
        "outputId": "0f635de0-2299-448b-ea72-1cdb69d0e2b2"
      },
      "source": [
        "cnts.head(60)"
      ],
      "execution_count": null,
      "outputs": [
        {
          "output_type": "execute_result",
          "data": {
            "text/plain": [
              "0.0000         36000\n",
              "500.0000          35\n",
              "25.0000            7\n",
              "100.0000           7\n",
              "1000.0000          6\n",
              "250.0000           6\n",
              "184531.7469        5\n",
              "75.0000            4\n",
              "517.0000           4\n",
              "300.0000           4\n",
              "3185.0000          4\n",
              "469.0000           3\n",
              "455.0000           3\n",
              "600.0000           3\n",
              "253.4400           3\n",
              "350.0000           3\n",
              "1165.0000          3\n",
              "254.0000           3\n",
              "102.0000           3\n",
              "330.0000           3\n",
              "192.0000           3\n",
              "459.0000           3\n",
              "5000.0000          3\n",
              "160.0000           3\n",
              "150.0000           3\n",
              "230.0000           2\n",
              "878.1100           2\n",
              "297.0000           2\n",
              "380.0000           2\n",
              "605.0000           2\n",
              "460.0000           2\n",
              "1035.0000          2\n",
              "769.0000           2\n",
              "2376.0000          2\n",
              "1181.0000          2\n",
              "20000.0000         2\n",
              "691.0000           2\n",
              "15000.0000         2\n",
              "200.0000           2\n",
              "97.0000            2\n",
              "590.0000           2\n",
              "1475.0000          2\n",
              "16657.1300         2\n",
              "298.0000           2\n",
              "285.0000           2\n",
              "545.0000           2\n",
              "149.0000           2\n",
              "5500.0000          2\n",
              "281.0000           2\n",
              "287.0000           2\n",
              "356.0000           2\n",
              "1070.0000          2\n",
              "409.0000           2\n",
              "533.0000           2\n",
              "333.0000           2\n",
              "5175.0000          2\n",
              "161.0000           2\n",
              "586.0000           2\n",
              "1224.0000          2\n",
              "974.0000           2\n",
              "Name: claims_amount, dtype: int64"
            ]
          },
          "metadata": {},
          "execution_count": 35
        }
      ]
    },
    {
      "cell_type": "markdown",
      "source": [
        "### Extracting subset of data frame where claim amount > 0"
      ],
      "metadata": {
        "id": "MjKc3hT80aK5"
      }
    },
    {
      "cell_type": "code",
      "metadata": {
        "id": "j0MlWkXL371V"
      },
      "source": [
        "### Extracting subset of data frame where claim amount > 0\n",
        "df_claim_above_zero = property_data[property_data['claims_amount'] > 0.00 ]"
      ],
      "execution_count": null,
      "outputs": []
    },
    {
      "cell_type": "code",
      "metadata": {
        "colab": {
          "base_uri": "https://localhost:8080/"
        },
        "id": "EQJ4mPqy71wM",
        "outputId": "83c91c20-b4ab-4c49-d436-6dce630e8465"
      },
      "source": [
        "df_claim_above_zero['claims_amount'].describe()"
      ],
      "execution_count": null,
      "outputs": [
        {
          "output_type": "execute_result",
          "data": {
            "text/plain": [
              "count      4000.000000\n",
              "mean      11105.854642\n",
              "std       38353.698900\n",
              "min          15.760000\n",
              "25%         866.885000\n",
              "50%        1886.606662\n",
              "75%        4997.742500\n",
              "max      850977.600000\n",
              "Name: claims_amount, dtype: float64"
            ]
          },
          "metadata": {},
          "execution_count": 37
        }
      ]
    },
    {
      "cell_type": "markdown",
      "source": [
        "### Here 75% value is 4997.74 , so taking claim amount above this value as high risk category."
      ],
      "metadata": {
        "id": "iXpbVBnZ1EYK"
      }
    },
    {
      "cell_type": "code",
      "metadata": {
        "id": "BdSW0Yg9712Y"
      },
      "source": [
        "### Here 75% value is 4997.74 , so taking claim amount above this value as high risk category."
      ],
      "execution_count": null,
      "outputs": []
    },
    {
      "cell_type": "code",
      "metadata": {
        "colab": {
          "base_uri": "https://localhost:8080/"
        },
        "id": "Vd7nMKnC7168",
        "outputId": "17048073-34e5-4cec-f1e3-53f83997bb49"
      },
      "source": [
        "property_data.isna().sum()"
      ],
      "execution_count": null,
      "outputs": [
        {
          "output_type": "execute_result",
          "data": {
            "text/plain": [
              "property_id                0\n",
              "state                      0\n",
              "zipcode                    0\n",
              "county_fips               17\n",
              "total_bath_count        3412\n",
              "year_built              1207\n",
              "building_area_sq_ft      602\n",
              "property_type            602\n",
              "exterior_walls         15468\n",
              "water                  31332\n",
              "sewer                  31772\n",
              "heating                 8782\n",
              "heating_fuel_type      31622\n",
              "fireplace                602\n",
              "style                  35488\n",
              "garage_type_parking     8829\n",
              "claims_amount              0\n",
              "record_date             1476\n",
              "event_type              1478\n",
              "dtype: int64"
            ]
          },
          "metadata": {},
          "execution_count": 39
        }
      ]
    },
    {
      "cell_type": "markdown",
      "source": [
        "### Converting claims_amount feature to categorical variable where\n",
        "### values < 4997.74 labelled as 0,\n",
        "\n",
        "### values > 4997.74 labelled as 1"
      ],
      "metadata": {
        "id": "gvKiLJ2q1dJx"
      }
    },
    {
      "cell_type": "code",
      "metadata": {
        "id": "OL-7GbhY71-H"
      },
      "source": [
        "property_data['claims_amount'] = np.where((property_data.claims_amount < 4997.74), 0, property_data.claims_amount)"
      ],
      "execution_count": null,
      "outputs": []
    },
    {
      "cell_type": "code",
      "metadata": {
        "id": "CaW-lFPk36-C"
      },
      "source": [
        "property_data['claims_amount'] = np.where((property_data.claims_amount > 4997.74), 1, property_data.claims_amount)"
      ],
      "execution_count": null,
      "outputs": []
    },
    {
      "cell_type": "code",
      "metadata": {
        "colab": {
          "base_uri": "https://localhost:8080/"
        },
        "id": "ZJMw-1UL37BM",
        "outputId": "8aebbf27-f62e-434b-cb87-4dbc8f3ee063"
      },
      "source": [
        "property_data['claims_amount'].unique()"
      ],
      "execution_count": null,
      "outputs": [
        {
          "output_type": "execute_result",
          "data": {
            "text/plain": [
              "array([0., 1.])"
            ]
          },
          "metadata": {},
          "execution_count": 42
        }
      ]
    },
    {
      "cell_type": "code",
      "metadata": {
        "colab": {
          "base_uri": "https://localhost:8080/"
        },
        "id": "wn3KyhZob24m",
        "outputId": "e4765148-4491-4b72-bbe8-3cb3cc42a93e"
      },
      "source": [
        "property_data.isna().sum()"
      ],
      "execution_count": null,
      "outputs": [
        {
          "output_type": "execute_result",
          "data": {
            "text/plain": [
              "property_id                0\n",
              "state                      0\n",
              "zipcode                    0\n",
              "county_fips               17\n",
              "total_bath_count        3412\n",
              "year_built              1207\n",
              "building_area_sq_ft      602\n",
              "property_type            602\n",
              "exterior_walls         15468\n",
              "water                  31332\n",
              "sewer                  31772\n",
              "heating                 8782\n",
              "heating_fuel_type      31622\n",
              "fireplace                602\n",
              "style                  35488\n",
              "garage_type_parking     8829\n",
              "claims_amount              0\n",
              "record_date             1476\n",
              "event_type              1478\n",
              "dtype: int64"
            ]
          },
          "metadata": {},
          "execution_count": 43
        }
      ]
    },
    {
      "cell_type": "markdown",
      "source": [
        "### Dropping columns with almost null values"
      ],
      "metadata": {
        "id": "aZzK-NVu2WOX"
      }
    },
    {
      "cell_type": "code",
      "metadata": {
        "id": "yMmy_WsmcFCw"
      },
      "source": [
        "## Dropping columns with almost null values"
      ],
      "execution_count": null,
      "outputs": []
    },
    {
      "cell_type": "code",
      "metadata": {
        "id": "YbW0YgojdiyW"
      },
      "source": [
        "property_data.drop(['water','sewer','heating_fuel_type','style'],axis=1,inplace=True)"
      ],
      "execution_count": null,
      "outputs": []
    },
    {
      "cell_type": "code",
      "metadata": {
        "colab": {
          "base_uri": "https://localhost:8080/",
          "height": 211
        },
        "id": "4uFJ6aCpeQe5",
        "outputId": "d098b73c-d190-4027-9637-a16f4c1e1092"
      },
      "source": [
        "property_data.head(2)"
      ],
      "execution_count": null,
      "outputs": [
        {
          "output_type": "execute_result",
          "data": {
            "text/plain": [
              "   property_id state  zipcode  county_fips  total_bath_count  year_built  \\\n",
              "0            0    AZ    85042       4013.0              3.67      2005.0   \n",
              "5            1    AZ    85037       4013.0              3.00      1975.0   \n",
              "\n",
              "   building_area_sq_ft              property_type exterior_walls heating  \\\n",
              "0               2121.0  Single Family Residential           wood     yes   \n",
              "5               1783.0  Single Family Residential           wood     yes   \n",
              "\n",
              "  fireplace garage_type_parking  claims_amount record_date      event_type  \n",
              "0     False              garage            0.0  2007-06-06  claim_accepted  \n",
              "5     False                 NaN            0.0  2005-08-10  claim_accepted  "
            ],
            "text/html": [
              "\n",
              "  <div id=\"df-360b5cae-bd5b-4af3-b91d-81244228c4a8\">\n",
              "    <div class=\"colab-df-container\">\n",
              "      <div>\n",
              "<style scoped>\n",
              "    .dataframe tbody tr th:only-of-type {\n",
              "        vertical-align: middle;\n",
              "    }\n",
              "\n",
              "    .dataframe tbody tr th {\n",
              "        vertical-align: top;\n",
              "    }\n",
              "\n",
              "    .dataframe thead th {\n",
              "        text-align: right;\n",
              "    }\n",
              "</style>\n",
              "<table border=\"1\" class=\"dataframe\">\n",
              "  <thead>\n",
              "    <tr style=\"text-align: right;\">\n",
              "      <th></th>\n",
              "      <th>property_id</th>\n",
              "      <th>state</th>\n",
              "      <th>zipcode</th>\n",
              "      <th>county_fips</th>\n",
              "      <th>total_bath_count</th>\n",
              "      <th>year_built</th>\n",
              "      <th>building_area_sq_ft</th>\n",
              "      <th>property_type</th>\n",
              "      <th>exterior_walls</th>\n",
              "      <th>heating</th>\n",
              "      <th>fireplace</th>\n",
              "      <th>garage_type_parking</th>\n",
              "      <th>claims_amount</th>\n",
              "      <th>record_date</th>\n",
              "      <th>event_type</th>\n",
              "    </tr>\n",
              "  </thead>\n",
              "  <tbody>\n",
              "    <tr>\n",
              "      <th>0</th>\n",
              "      <td>0</td>\n",
              "      <td>AZ</td>\n",
              "      <td>85042</td>\n",
              "      <td>4013.0</td>\n",
              "      <td>3.67</td>\n",
              "      <td>2005.0</td>\n",
              "      <td>2121.0</td>\n",
              "      <td>Single Family Residential</td>\n",
              "      <td>wood</td>\n",
              "      <td>yes</td>\n",
              "      <td>False</td>\n",
              "      <td>garage</td>\n",
              "      <td>0.0</td>\n",
              "      <td>2007-06-06</td>\n",
              "      <td>claim_accepted</td>\n",
              "    </tr>\n",
              "    <tr>\n",
              "      <th>5</th>\n",
              "      <td>1</td>\n",
              "      <td>AZ</td>\n",
              "      <td>85037</td>\n",
              "      <td>4013.0</td>\n",
              "      <td>3.00</td>\n",
              "      <td>1975.0</td>\n",
              "      <td>1783.0</td>\n",
              "      <td>Single Family Residential</td>\n",
              "      <td>wood</td>\n",
              "      <td>yes</td>\n",
              "      <td>False</td>\n",
              "      <td>NaN</td>\n",
              "      <td>0.0</td>\n",
              "      <td>2005-08-10</td>\n",
              "      <td>claim_accepted</td>\n",
              "    </tr>\n",
              "  </tbody>\n",
              "</table>\n",
              "</div>\n",
              "      <button class=\"colab-df-convert\" onclick=\"convertToInteractive('df-360b5cae-bd5b-4af3-b91d-81244228c4a8')\"\n",
              "              title=\"Convert this dataframe to an interactive table.\"\n",
              "              style=\"display:none;\">\n",
              "        \n",
              "  <svg xmlns=\"http://www.w3.org/2000/svg\" height=\"24px\"viewBox=\"0 0 24 24\"\n",
              "       width=\"24px\">\n",
              "    <path d=\"M0 0h24v24H0V0z\" fill=\"none\"/>\n",
              "    <path d=\"M18.56 5.44l.94 2.06.94-2.06 2.06-.94-2.06-.94-.94-2.06-.94 2.06-2.06.94zm-11 1L8.5 8.5l.94-2.06 2.06-.94-2.06-.94L8.5 2.5l-.94 2.06-2.06.94zm10 10l.94 2.06.94-2.06 2.06-.94-2.06-.94-.94-2.06-.94 2.06-2.06.94z\"/><path d=\"M17.41 7.96l-1.37-1.37c-.4-.4-.92-.59-1.43-.59-.52 0-1.04.2-1.43.59L10.3 9.45l-7.72 7.72c-.78.78-.78 2.05 0 2.83L4 21.41c.39.39.9.59 1.41.59.51 0 1.02-.2 1.41-.59l7.78-7.78 2.81-2.81c.8-.78.8-2.07 0-2.86zM5.41 20L4 18.59l7.72-7.72 1.47 1.35L5.41 20z\"/>\n",
              "  </svg>\n",
              "      </button>\n",
              "      \n",
              "  <style>\n",
              "    .colab-df-container {\n",
              "      display:flex;\n",
              "      flex-wrap:wrap;\n",
              "      gap: 12px;\n",
              "    }\n",
              "\n",
              "    .colab-df-convert {\n",
              "      background-color: #E8F0FE;\n",
              "      border: none;\n",
              "      border-radius: 50%;\n",
              "      cursor: pointer;\n",
              "      display: none;\n",
              "      fill: #1967D2;\n",
              "      height: 32px;\n",
              "      padding: 0 0 0 0;\n",
              "      width: 32px;\n",
              "    }\n",
              "\n",
              "    .colab-df-convert:hover {\n",
              "      background-color: #E2EBFA;\n",
              "      box-shadow: 0px 1px 2px rgba(60, 64, 67, 0.3), 0px 1px 3px 1px rgba(60, 64, 67, 0.15);\n",
              "      fill: #174EA6;\n",
              "    }\n",
              "\n",
              "    [theme=dark] .colab-df-convert {\n",
              "      background-color: #3B4455;\n",
              "      fill: #D2E3FC;\n",
              "    }\n",
              "\n",
              "    [theme=dark] .colab-df-convert:hover {\n",
              "      background-color: #434B5C;\n",
              "      box-shadow: 0px 1px 3px 1px rgba(0, 0, 0, 0.15);\n",
              "      filter: drop-shadow(0px 1px 2px rgba(0, 0, 0, 0.3));\n",
              "      fill: #FFFFFF;\n",
              "    }\n",
              "  </style>\n",
              "\n",
              "      <script>\n",
              "        const buttonEl =\n",
              "          document.querySelector('#df-360b5cae-bd5b-4af3-b91d-81244228c4a8 button.colab-df-convert');\n",
              "        buttonEl.style.display =\n",
              "          google.colab.kernel.accessAllowed ? 'block' : 'none';\n",
              "\n",
              "        async function convertToInteractive(key) {\n",
              "          const element = document.querySelector('#df-360b5cae-bd5b-4af3-b91d-81244228c4a8');\n",
              "          const dataTable =\n",
              "            await google.colab.kernel.invokeFunction('convertToInteractive',\n",
              "                                                     [key], {});\n",
              "          if (!dataTable) return;\n",
              "\n",
              "          const docLinkHtml = 'Like what you see? Visit the ' +\n",
              "            '<a target=\"_blank\" href=https://colab.research.google.com/notebooks/data_table.ipynb>data table notebook</a>'\n",
              "            + ' to learn more about interactive tables.';\n",
              "          element.innerHTML = '';\n",
              "          dataTable['output_type'] = 'display_data';\n",
              "          await google.colab.output.renderOutput(dataTable, element);\n",
              "          const docLink = document.createElement('div');\n",
              "          docLink.innerHTML = docLinkHtml;\n",
              "          element.appendChild(docLink);\n",
              "        }\n",
              "      </script>\n",
              "    </div>\n",
              "  </div>\n",
              "  "
            ]
          },
          "metadata": {},
          "execution_count": 46
        }
      ]
    },
    {
      "cell_type": "markdown",
      "source": [
        "### Checking unique values in each column"
      ],
      "metadata": {
        "id": "AM_rMDS42bDr"
      }
    },
    {
      "cell_type": "code",
      "metadata": {
        "colab": {
          "base_uri": "https://localhost:8080/"
        },
        "id": "4NKIoteOfR9h",
        "outputId": "4cb7dba3-2911-4af6-9f47-5f7e02f5f2fe"
      },
      "source": [
        "#checking unique values in each columns\n",
        "property_data['event_type'].unique()"
      ],
      "execution_count": null,
      "outputs": [
        {
          "output_type": "execute_result",
          "data": {
            "text/plain": [
              "array(['claim_accepted', 'claim_rejected', nan], dtype=object)"
            ]
          },
          "metadata": {},
          "execution_count": 47
        }
      ]
    },
    {
      "cell_type": "code",
      "metadata": {
        "colab": {
          "base_uri": "https://localhost:8080/"
        },
        "id": "IuzlRFrRforM",
        "outputId": "48f2a53c-ccc7-41e8-d80d-08bfc3de061c"
      },
      "source": [
        "property_data['county_fips'].unique()"
      ],
      "execution_count": null,
      "outputs": [
        {
          "output_type": "execute_result",
          "data": {
            "text/plain": [
              "array([ 4013.,    nan,  4021., 12031., 12086., 12057., 12009., 12011.,\n",
              "       12015., 12019., 12095., 12105.,  6037.,  6113.,  6071., 32003.,\n",
              "        6065.,  6067.,  6017.,  6061., 17031., 17089., 17043., 17111.,\n",
              "       17097.,  6101.,  6115.,  6059., 12069., 12071., 12081., 12101.,\n",
              "       12103., 12097., 12099., 12109., 12115., 12117., 12127., 17093.,\n",
              "       17197., 53033.,  6095., 37119., 37179., 53053., 53061., 12089.,\n",
              "        6013., 13057., 13227., 13063., 13089., 13067., 13097., 13247.,\n",
              "       13113., 13117., 13121., 13135., 13013., 13151., 13223., 13217.,\n",
              "       13297., 13139., 13015., 13077., 13095., 13051.])"
            ]
          },
          "metadata": {},
          "execution_count": 48
        }
      ]
    },
    {
      "cell_type": "code",
      "metadata": {
        "colab": {
          "base_uri": "https://localhost:8080/"
        },
        "id": "wpKEz8X-gFlB",
        "outputId": "7c679529-b9e8-40a5-94f7-c09cba81ba90"
      },
      "source": [
        "property_data['total_bath_count'].unique()"
      ],
      "execution_count": null,
      "outputs": [
        {
          "output_type": "execute_result",
          "data": {
            "text/plain": [
              "array([ 3.67,  3.  ,  2.33,  2.  ,  2.67,  5.33,  1.  ,  5.  ,   nan,\n",
              "        3.33,  4.67,  4.  ,  6.  ,  1.5 ,  7.33,  4.33,  5.67,  6.67,\n",
              "        6.33,  7.  ,  8.33,  8.  ,  8.67,  9.  ,  2.5 ,  3.5 ,  4.5 ,\n",
              "        6.5 ,  5.5 , 10.  ,  8.5 , 12.  ,  7.5 ])"
            ]
          },
          "metadata": {},
          "execution_count": 49
        }
      ]
    },
    {
      "cell_type": "code",
      "metadata": {
        "colab": {
          "base_uri": "https://localhost:8080/"
        },
        "id": "1QkoH4RDgYtZ",
        "outputId": "562ce707-0a25-41b2-830d-b95ae8344ddd"
      },
      "source": [
        "property_data['year_built'].unique()"
      ],
      "execution_count": null,
      "outputs": [
        {
          "output_type": "execute_result",
          "data": {
            "text/plain": [
              "array([2005., 1975., 1984., 1972., 1985., 1996., 1960., 1956., 1954.,\n",
              "       2001., 1970., 1957., 2004., 2006., 1976., 1991., 2000., 1997.,\n",
              "       1999., 1978., 1973., 1983., 1958., 1961., 1959., 1993., 1971.,\n",
              "       2003., 1979., 1969., 1998.,   nan, 1962., 1994., 1955., 1964.,\n",
              "       1980., 1968., 2002., 1988., 2007., 1989., 1944., 1977., 2008.,\n",
              "       1950., 1995., 1986., 1963., 1982., 1992., 1936., 1990., 1974.,\n",
              "       1945., 1981., 1953., 1987., 1952., 2015., 1915., 2009., 1948.,\n",
              "       1951., 2011., 1966., 1946., 1940., 1906., 1965., 1947., 1967.,\n",
              "       1949., 1924., 1925., 2014., 1926., 2013., 1941., 2010., 1934.,\n",
              "       1935., 1939., 1932., 1930., 1937., 1933., 1916., 1931., 2012.,\n",
              "       1942., 1920., 1938., 1943., 1928., 1909., 1923., 1901., 1927.,\n",
              "       1910., 1912., 1884., 1908., 1892., 1929., 1918., 1905., 1913.,\n",
              "       1904., 1902., 1921., 1917., 1922., 1911., 1898., 1907., 1919.,\n",
              "       1890., 1903., 1900., 1887., 1895., 1914., 1879., 1880., 1888.,\n",
              "       1893., 1894., 1896., 1860., 1885., 1891.])"
            ]
          },
          "metadata": {},
          "execution_count": 50
        }
      ]
    },
    {
      "cell_type": "code",
      "metadata": {
        "colab": {
          "base_uri": "https://localhost:8080/"
        },
        "id": "0kCoV1z1717M",
        "outputId": "57d45108-f473-461d-8ea1-be01f5015adf"
      },
      "source": [
        "property_data['building_area_sq_ft'].unique()"
      ],
      "execution_count": null,
      "outputs": [
        {
          "output_type": "execute_result",
          "data": {
            "text/plain": [
              "array([2121., 1783., 1592., ..., 4859., 4267., 5863.])"
            ]
          },
          "metadata": {},
          "execution_count": 51
        }
      ]
    },
    {
      "cell_type": "code",
      "metadata": {
        "colab": {
          "base_uri": "https://localhost:8080/"
        },
        "id": "rbDq1W6I8VnO",
        "outputId": "821377ca-b99e-41a6-e462-9b76224fbb70"
      },
      "source": [
        "property_data['property_type'].unique()"
      ],
      "execution_count": null,
      "outputs": [
        {
          "output_type": "execute_result",
          "data": {
            "text/plain": [
              "array(['Single Family Residential', 'Multi-Family', 'Condominium', nan,\n",
              "       'Townhouse', 'Land', 'Manufactured/Mobile Home', 'Other'],\n",
              "      dtype=object)"
            ]
          },
          "metadata": {},
          "execution_count": 52
        }
      ]
    },
    {
      "cell_type": "code",
      "metadata": {
        "colab": {
          "base_uri": "https://localhost:8080/"
        },
        "id": "sIj2vGTp8gPe",
        "outputId": "5cce24ac-0498-4225-e453-0d8c02580171"
      },
      "source": [
        "property_data['exterior_walls'].unique()"
      ],
      "execution_count": null,
      "outputs": [
        {
          "output_type": "execute_result",
          "data": {
            "text/plain": [
              "array(['wood', 'stucco', 'block', 'other', nan, 'brick', 'brick_veneer',\n",
              "       'adobe', 'rock_stone', 'wood_siding', 'siding_alum_vinyl',\n",
              "       'composition', 'concrete_block', 'combination', 'concrete', 'tile',\n",
              "       'asbestos_shingle', 'wood_shingle', 'masonry',\n",
              "       'tilt_up_pre_cast_concrete', 'metal', 'shingle_not_wood', 'log'],\n",
              "      dtype=object)"
            ]
          },
          "metadata": {},
          "execution_count": 53
        }
      ]
    },
    {
      "cell_type": "code",
      "metadata": {
        "colab": {
          "base_uri": "https://localhost:8080/"
        },
        "id": "7xMVYW-p8mEx",
        "outputId": "3c595e35-6121-4053-de6b-684f3d6ae17b"
      },
      "source": [
        "property_data['heating'].unique()"
      ],
      "execution_count": null,
      "outputs": [
        {
          "output_type": "execute_result",
          "data": {
            "text/plain": [
              "array(['yes', nan, 'none', 'floor_wall', 'heat_pump', 'forced_air_unit',\n",
              "       'central', 'solar', 'other', 'baseboard', 'electric', 'vent',\n",
              "       'gravity', 'radiant', 'hot_water'], dtype=object)"
            ]
          },
          "metadata": {},
          "execution_count": 54
        }
      ]
    },
    {
      "cell_type": "code",
      "metadata": {
        "colab": {
          "base_uri": "https://localhost:8080/"
        },
        "id": "GTxS_HTQ8zcd",
        "outputId": "79604b5d-a0b2-47a9-84fa-be763de5b3aa"
      },
      "source": [
        "property_data['fireplace'].unique()"
      ],
      "execution_count": null,
      "outputs": [
        {
          "output_type": "execute_result",
          "data": {
            "text/plain": [
              "array([False, nan, True], dtype=object)"
            ]
          },
          "metadata": {},
          "execution_count": 55
        }
      ]
    },
    {
      "cell_type": "code",
      "metadata": {
        "colab": {
          "base_uri": "https://localhost:8080/"
        },
        "id": "QfIRNPnI84rX",
        "outputId": "07289d2e-540a-4500-b48e-b7642676de05"
      },
      "source": [
        "property_data['garage_type_parking'].unique()"
      ],
      "execution_count": null,
      "outputs": [
        {
          "output_type": "execute_result",
          "data": {
            "text/plain": [
              "array(['garage', nan, 'carport', 'mixed', 'built_in', 'attached_garage',\n",
              "       'detached_garage', 'yes', 'none', 'paved_surfaced',\n",
              "       'underground_basement'], dtype=object)"
            ]
          },
          "metadata": {},
          "execution_count": 56
        }
      ]
    },
    {
      "cell_type": "code",
      "metadata": {
        "id": "X09VA7pc9YiR"
      },
      "source": [
        "property_data.dropna(how='all',inplace=True) # dropping rows with all nan values."
      ],
      "execution_count": null,
      "outputs": []
    },
    {
      "cell_type": "code",
      "metadata": {
        "colab": {
          "base_uri": "https://localhost:8080/"
        },
        "id": "bf9ZJ_M09eA6",
        "outputId": "43bc02d5-a869-41b6-c518-e50f77b0cbd8"
      },
      "source": [
        "property_data.shape"
      ],
      "execution_count": null,
      "outputs": [
        {
          "output_type": "execute_result",
          "data": {
            "text/plain": [
              "(40000, 15)"
            ]
          },
          "metadata": {},
          "execution_count": 58
        }
      ]
    },
    {
      "cell_type": "code",
      "metadata": {
        "id": "d0oGZr4p_enQ"
      },
      "source": [
        "property_data.dropna(subset=['event_type'], how='all', inplace=True)"
      ],
      "execution_count": null,
      "outputs": []
    },
    {
      "cell_type": "code",
      "metadata": {
        "colab": {
          "base_uri": "https://localhost:8080/"
        },
        "id": "LaSu3QrC_u89",
        "outputId": "b757df75-318b-4bb9-d682-e602411c7fc1"
      },
      "source": [
        "property_data.shape"
      ],
      "execution_count": null,
      "outputs": [
        {
          "output_type": "execute_result",
          "data": {
            "text/plain": [
              "(38522, 15)"
            ]
          },
          "metadata": {},
          "execution_count": 60
        }
      ]
    },
    {
      "cell_type": "code",
      "metadata": {
        "id": "lbsCvfW0zSdC"
      },
      "source": [
        "## Filling NaN values with appropriate values..."
      ],
      "execution_count": null,
      "outputs": []
    },
    {
      "cell_type": "code",
      "metadata": {
        "id": "h_pcu4yf_x4U"
      },
      "source": [
        "property_data['county_fips'] = property_data['county_fips'].fillna((property_data['county_fips'].mean()))"
      ],
      "execution_count": null,
      "outputs": []
    },
    {
      "cell_type": "code",
      "metadata": {
        "id": "jxP8MqEgA5nC"
      },
      "source": [
        "\n",
        "property_data['total_bath_count'] = property_data['total_bath_count'].fillna(0)"
      ],
      "execution_count": null,
      "outputs": []
    },
    {
      "cell_type": "code",
      "metadata": {
        "id": "cdrS7nMSBPGq"
      },
      "source": [
        "\n",
        "property_data['year_built'] = property_data['year_built'].fillna((property_data['year_built'].mean()))"
      ],
      "execution_count": null,
      "outputs": []
    },
    {
      "cell_type": "code",
      "metadata": {
        "id": "tMsN7d0dBZ51"
      },
      "source": [
        "\n",
        "#property_data.dropna(subset=['exterior_walls'], how='all', inplace=True)\n",
        "property_data['exterior_walls'] = property_data['exterior_walls'].fillna(\"Unknown\")"
      ],
      "execution_count": null,
      "outputs": []
    },
    {
      "cell_type": "code",
      "metadata": {
        "colab": {
          "base_uri": "https://localhost:8080/"
        },
        "id": "ukE00BtABvWg",
        "outputId": "15bed97f-bfcc-49a5-e685-55004429eda8"
      },
      "source": [
        "property_data.shape"
      ],
      "execution_count": null,
      "outputs": [
        {
          "output_type": "execute_result",
          "data": {
            "text/plain": [
              "(38522, 15)"
            ]
          },
          "metadata": {},
          "execution_count": 66
        }
      ]
    },
    {
      "cell_type": "code",
      "metadata": {
        "id": "b8Rq3qWGBxG5"
      },
      "source": [
        "property_data['heating'] = property_data['heating'].fillna(\"none\")"
      ],
      "execution_count": null,
      "outputs": []
    },
    {
      "cell_type": "code",
      "metadata": {
        "id": "SbuXEJ24Ccw_"
      },
      "source": [
        "property_data['garage_type_parking'] = property_data['garage_type_parking'].fillna(\"none\")"
      ],
      "execution_count": null,
      "outputs": []
    },
    {
      "cell_type": "code",
      "metadata": {
        "colab": {
          "base_uri": "https://localhost:8080/"
        },
        "id": "wHKb0E06DNlt",
        "outputId": "b1f6340f-08e2-4f19-99cb-fa1bb90cf826"
      },
      "source": [
        "property_data.isna().sum()"
      ],
      "execution_count": null,
      "outputs": [
        {
          "output_type": "execute_result",
          "data": {
            "text/plain": [
              "property_id            0\n",
              "state                  0\n",
              "zipcode                0\n",
              "county_fips            0\n",
              "total_bath_count       0\n",
              "year_built             0\n",
              "building_area_sq_ft    0\n",
              "property_type          0\n",
              "exterior_walls         0\n",
              "heating                0\n",
              "fireplace              0\n",
              "garage_type_parking    0\n",
              "claims_amount          0\n",
              "record_date            0\n",
              "event_type             0\n",
              "dtype: int64"
            ]
          },
          "metadata": {},
          "execution_count": 69
        }
      ]
    },
    {
      "cell_type": "code",
      "metadata": {
        "colab": {
          "base_uri": "https://localhost:8080/"
        },
        "id": "I3MYG81SDQRx",
        "outputId": "1cbad74f-b7a0-4849-cac8-2c836e8a0cbc"
      },
      "source": [
        "property_data.shape"
      ],
      "execution_count": null,
      "outputs": [
        {
          "output_type": "execute_result",
          "data": {
            "text/plain": [
              "(38522, 15)"
            ]
          },
          "metadata": {},
          "execution_count": 70
        }
      ]
    },
    {
      "cell_type": "markdown",
      "source": [
        "### Checking correlation among variables"
      ],
      "metadata": {
        "id": "3Kms9iRo2rxU"
      }
    },
    {
      "cell_type": "code",
      "metadata": {
        "colab": {
          "base_uri": "https://localhost:8080/",
          "height": 269
        },
        "id": "NldJFC2wDlfD",
        "outputId": "7efc8db8-90eb-4666-c845-b96d1f9195ae"
      },
      "source": [
        "property_data.corr()"
      ],
      "execution_count": null,
      "outputs": [
        {
          "output_type": "execute_result",
          "data": {
            "text/plain": [
              "                     property_id   zipcode  county_fips  total_bath_count  \\\n",
              "property_id             1.000000 -0.636353     0.446347         -0.014559   \n",
              "zipcode                -0.636353  1.000000    -0.107725          0.045855   \n",
              "county_fips             0.446347 -0.107725     1.000000         -0.040262   \n",
              "total_bath_count       -0.014559  0.045855    -0.040262          1.000000   \n",
              "year_built              0.123634 -0.184495     0.039883          0.328150   \n",
              "building_area_sq_ft     0.090924 -0.097232     0.000259          0.589322   \n",
              "claims_amount           0.011702 -0.030413     0.022569          0.022842   \n",
              "\n",
              "                     year_built  building_area_sq_ft  claims_amount  \n",
              "property_id            0.123634             0.090924       0.011702  \n",
              "zipcode               -0.184495            -0.097232      -0.030413  \n",
              "county_fips            0.039883             0.000259       0.022569  \n",
              "total_bath_count       0.328150             0.589322       0.022842  \n",
              "year_built             1.000000             0.346327       0.010205  \n",
              "building_area_sq_ft    0.346327             1.000000       0.049301  \n",
              "claims_amount          0.010205             0.049301       1.000000  "
            ],
            "text/html": [
              "\n",
              "  <div id=\"df-bb2f1529-abc7-44e2-a999-2c0b4b90c684\">\n",
              "    <div class=\"colab-df-container\">\n",
              "      <div>\n",
              "<style scoped>\n",
              "    .dataframe tbody tr th:only-of-type {\n",
              "        vertical-align: middle;\n",
              "    }\n",
              "\n",
              "    .dataframe tbody tr th {\n",
              "        vertical-align: top;\n",
              "    }\n",
              "\n",
              "    .dataframe thead th {\n",
              "        text-align: right;\n",
              "    }\n",
              "</style>\n",
              "<table border=\"1\" class=\"dataframe\">\n",
              "  <thead>\n",
              "    <tr style=\"text-align: right;\">\n",
              "      <th></th>\n",
              "      <th>property_id</th>\n",
              "      <th>zipcode</th>\n",
              "      <th>county_fips</th>\n",
              "      <th>total_bath_count</th>\n",
              "      <th>year_built</th>\n",
              "      <th>building_area_sq_ft</th>\n",
              "      <th>claims_amount</th>\n",
              "    </tr>\n",
              "  </thead>\n",
              "  <tbody>\n",
              "    <tr>\n",
              "      <th>property_id</th>\n",
              "      <td>1.000000</td>\n",
              "      <td>-0.636353</td>\n",
              "      <td>0.446347</td>\n",
              "      <td>-0.014559</td>\n",
              "      <td>0.123634</td>\n",
              "      <td>0.090924</td>\n",
              "      <td>0.011702</td>\n",
              "    </tr>\n",
              "    <tr>\n",
              "      <th>zipcode</th>\n",
              "      <td>-0.636353</td>\n",
              "      <td>1.000000</td>\n",
              "      <td>-0.107725</td>\n",
              "      <td>0.045855</td>\n",
              "      <td>-0.184495</td>\n",
              "      <td>-0.097232</td>\n",
              "      <td>-0.030413</td>\n",
              "    </tr>\n",
              "    <tr>\n",
              "      <th>county_fips</th>\n",
              "      <td>0.446347</td>\n",
              "      <td>-0.107725</td>\n",
              "      <td>1.000000</td>\n",
              "      <td>-0.040262</td>\n",
              "      <td>0.039883</td>\n",
              "      <td>0.000259</td>\n",
              "      <td>0.022569</td>\n",
              "    </tr>\n",
              "    <tr>\n",
              "      <th>total_bath_count</th>\n",
              "      <td>-0.014559</td>\n",
              "      <td>0.045855</td>\n",
              "      <td>-0.040262</td>\n",
              "      <td>1.000000</td>\n",
              "      <td>0.328150</td>\n",
              "      <td>0.589322</td>\n",
              "      <td>0.022842</td>\n",
              "    </tr>\n",
              "    <tr>\n",
              "      <th>year_built</th>\n",
              "      <td>0.123634</td>\n",
              "      <td>-0.184495</td>\n",
              "      <td>0.039883</td>\n",
              "      <td>0.328150</td>\n",
              "      <td>1.000000</td>\n",
              "      <td>0.346327</td>\n",
              "      <td>0.010205</td>\n",
              "    </tr>\n",
              "    <tr>\n",
              "      <th>building_area_sq_ft</th>\n",
              "      <td>0.090924</td>\n",
              "      <td>-0.097232</td>\n",
              "      <td>0.000259</td>\n",
              "      <td>0.589322</td>\n",
              "      <td>0.346327</td>\n",
              "      <td>1.000000</td>\n",
              "      <td>0.049301</td>\n",
              "    </tr>\n",
              "    <tr>\n",
              "      <th>claims_amount</th>\n",
              "      <td>0.011702</td>\n",
              "      <td>-0.030413</td>\n",
              "      <td>0.022569</td>\n",
              "      <td>0.022842</td>\n",
              "      <td>0.010205</td>\n",
              "      <td>0.049301</td>\n",
              "      <td>1.000000</td>\n",
              "    </tr>\n",
              "  </tbody>\n",
              "</table>\n",
              "</div>\n",
              "      <button class=\"colab-df-convert\" onclick=\"convertToInteractive('df-bb2f1529-abc7-44e2-a999-2c0b4b90c684')\"\n",
              "              title=\"Convert this dataframe to an interactive table.\"\n",
              "              style=\"display:none;\">\n",
              "        \n",
              "  <svg xmlns=\"http://www.w3.org/2000/svg\" height=\"24px\"viewBox=\"0 0 24 24\"\n",
              "       width=\"24px\">\n",
              "    <path d=\"M0 0h24v24H0V0z\" fill=\"none\"/>\n",
              "    <path d=\"M18.56 5.44l.94 2.06.94-2.06 2.06-.94-2.06-.94-.94-2.06-.94 2.06-2.06.94zm-11 1L8.5 8.5l.94-2.06 2.06-.94-2.06-.94L8.5 2.5l-.94 2.06-2.06.94zm10 10l.94 2.06.94-2.06 2.06-.94-2.06-.94-.94-2.06-.94 2.06-2.06.94z\"/><path d=\"M17.41 7.96l-1.37-1.37c-.4-.4-.92-.59-1.43-.59-.52 0-1.04.2-1.43.59L10.3 9.45l-7.72 7.72c-.78.78-.78 2.05 0 2.83L4 21.41c.39.39.9.59 1.41.59.51 0 1.02-.2 1.41-.59l7.78-7.78 2.81-2.81c.8-.78.8-2.07 0-2.86zM5.41 20L4 18.59l7.72-7.72 1.47 1.35L5.41 20z\"/>\n",
              "  </svg>\n",
              "      </button>\n",
              "      \n",
              "  <style>\n",
              "    .colab-df-container {\n",
              "      display:flex;\n",
              "      flex-wrap:wrap;\n",
              "      gap: 12px;\n",
              "    }\n",
              "\n",
              "    .colab-df-convert {\n",
              "      background-color: #E8F0FE;\n",
              "      border: none;\n",
              "      border-radius: 50%;\n",
              "      cursor: pointer;\n",
              "      display: none;\n",
              "      fill: #1967D2;\n",
              "      height: 32px;\n",
              "      padding: 0 0 0 0;\n",
              "      width: 32px;\n",
              "    }\n",
              "\n",
              "    .colab-df-convert:hover {\n",
              "      background-color: #E2EBFA;\n",
              "      box-shadow: 0px 1px 2px rgba(60, 64, 67, 0.3), 0px 1px 3px 1px rgba(60, 64, 67, 0.15);\n",
              "      fill: #174EA6;\n",
              "    }\n",
              "\n",
              "    [theme=dark] .colab-df-convert {\n",
              "      background-color: #3B4455;\n",
              "      fill: #D2E3FC;\n",
              "    }\n",
              "\n",
              "    [theme=dark] .colab-df-convert:hover {\n",
              "      background-color: #434B5C;\n",
              "      box-shadow: 0px 1px 3px 1px rgba(0, 0, 0, 0.15);\n",
              "      filter: drop-shadow(0px 1px 2px rgba(0, 0, 0, 0.3));\n",
              "      fill: #FFFFFF;\n",
              "    }\n",
              "  </style>\n",
              "\n",
              "      <script>\n",
              "        const buttonEl =\n",
              "          document.querySelector('#df-bb2f1529-abc7-44e2-a999-2c0b4b90c684 button.colab-df-convert');\n",
              "        buttonEl.style.display =\n",
              "          google.colab.kernel.accessAllowed ? 'block' : 'none';\n",
              "\n",
              "        async function convertToInteractive(key) {\n",
              "          const element = document.querySelector('#df-bb2f1529-abc7-44e2-a999-2c0b4b90c684');\n",
              "          const dataTable =\n",
              "            await google.colab.kernel.invokeFunction('convertToInteractive',\n",
              "                                                     [key], {});\n",
              "          if (!dataTable) return;\n",
              "\n",
              "          const docLinkHtml = 'Like what you see? Visit the ' +\n",
              "            '<a target=\"_blank\" href=https://colab.research.google.com/notebooks/data_table.ipynb>data table notebook</a>'\n",
              "            + ' to learn more about interactive tables.';\n",
              "          element.innerHTML = '';\n",
              "          dataTable['output_type'] = 'display_data';\n",
              "          await google.colab.output.renderOutput(dataTable, element);\n",
              "          const docLink = document.createElement('div');\n",
              "          docLink.innerHTML = docLinkHtml;\n",
              "          element.appendChild(docLink);\n",
              "        }\n",
              "      </script>\n",
              "    </div>\n",
              "  </div>\n",
              "  "
            ]
          },
          "metadata": {},
          "execution_count": 71
        }
      ]
    },
    {
      "cell_type": "code",
      "metadata": {
        "colab": {
          "base_uri": "https://localhost:8080/",
          "height": 433
        },
        "id": "B7FfIrxj-Dug",
        "outputId": "c8e18ecd-efe4-4d54-a965-16720a375e59"
      },
      "source": [
        "corrmat = property_data.corr()\n",
        "top_corr_features = corrmat.index\n",
        "plt.figure(figsize=(14,7))\n",
        "g=sns.heatmap(property_data[top_corr_features].corr(),annot=True,cmap=\"RdYlGn\")"
      ],
      "execution_count": null,
      "outputs": [
        {
          "output_type": "display_data",
          "data": {
            "text/plain": [
              "<Figure size 1008x504 with 2 Axes>"
            ],
            "image/png": "[encoded data removed]"
          },
          "metadata": {
            "needs_background": "light"
          }
        }
      ]
    },
    {
      "cell_type": "code",
      "metadata": {
        "colab": {
          "base_uri": "https://localhost:8080/"
        },
        "id": "qeDiemAfsGHY",
        "outputId": "d98ffd66-3c46-437a-937d-e906e6b6dd03"
      },
      "source": [
        "property_data.info()"
      ],
      "execution_count": null,
      "outputs": [
        {
          "output_type": "stream",
          "name": "stdout",
          "text": [
            "<class 'pandas.core.frame.DataFrame'>\n",
            "Int64Index: 38522 entries, 0 to 120447\n",
            "Data columns (total 15 columns):\n",
            " #   Column               Non-Null Count  Dtype  \n",
            "---  ------               --------------  -----  \n",
            " 0   property_id          38522 non-null  int64  \n",
            " 1   state                38522 non-null  object \n",
            " 2   zipcode              38522 non-null  int64  \n",
            " 3   county_fips          38522 non-null  float64\n",
            " 4   total_bath_count     38522 non-null  float64\n",
            " 5   year_built           38522 non-null  float64\n",
            " 6   building_area_sq_ft  38522 non-null  float64\n",
            " 7   property_type        38522 non-null  object \n",
            " 8   exterior_walls       38522 non-null  object \n",
            " 9   heating              38522 non-null  object \n",
            " 10  fireplace            38522 non-null  object \n",
            " 11  garage_type_parking  38522 non-null  object \n",
            " 12  claims_amount        38522 non-null  float64\n",
            " 13  record_date          38522 non-null  object \n",
            " 14  event_type           38522 non-null  object \n",
            "dtypes: float64(5), int64(2), object(8)\n",
            "memory usage: 4.7+ MB\n"
          ]
        }
      ]
    },
    {
      "cell_type": "code",
      "metadata": {
        "id": "CkggqEeKEVKQ"
      },
      "source": [
        "property_data['claims_amount'] = property_data['claims_amount'].astype(int)"
      ],
      "execution_count": null,
      "outputs": []
    },
    {
      "cell_type": "markdown",
      "metadata": {
        "id": "zEOrqYtL2kuc"
      },
      "source": [
        "# Bivariate Plots features versus claims_amount"
      ]
    },
    {
      "cell_type": "code",
      "metadata": {
        "id": "pdvUTb5M3rHU",
        "colab": {
          "base_uri": "https://localhost:8080/",
          "height": 459
        },
        "outputId": "3f5a3306-2252-4ee0-d0d3-3af9bb4972d3"
      },
      "source": [
        "%matplotlib inline\n",
        "print(\"State Vs claims_amount Count Plot\")\n",
        "plt.figure(figsize=(14, 7))\n",
        "sns.countplot(x=\"state\",hue=\"claims_amount\",palette=\"pastel\",data=property_data)\n",
        "plt.show()"
      ],
      "execution_count": null,
      "outputs": [
        {
          "output_type": "stream",
          "name": "stdout",
          "text": [
            "State Vs claims_amount Count Plot\n"
          ]
        },
        {
          "output_type": "display_data",
          "data": {
            "text/plain": [
              "<Figure size 1008x504 with 1 Axes>"
            ],
            "image/png": "[encoded data removed]"
          },
          "metadata": {
            "needs_background": "light"
          }
        }
      ]
    },
    {
      "cell_type": "code",
      "metadata": {
        "id": "YQKk2lxZ3rLq",
        "colab": {
          "base_uri": "https://localhost:8080/",
          "height": 460
        },
        "outputId": "9342c59b-649e-40ee-c162-ef7b5273c449"
      },
      "source": [
        "%matplotlib inline\n",
        "print(\"property_type Vs claims_amount Count Plot\")\n",
        "plt.figure(figsize=(14, 7))\n",
        "sns.countplot(x=\"property_type\",hue=\"claims_amount\",palette=\"pastel\",data=property_data)\n",
        "plt.show()"
      ],
      "execution_count": null,
      "outputs": [
        {
          "output_type": "stream",
          "name": "stdout",
          "text": [
            "property_type Vs claims_amount Count Plot\n"
          ]
        },
        {
          "output_type": "display_data",
          "data": {
            "text/plain": [
              "<Figure size 1008x504 with 1 Axes>"
            ],
            "image/png": "[encoded data removed]"
          },
          "metadata": {
            "needs_background": "light"
          }
        }
      ]
    },
    {
      "cell_type": "code",
      "metadata": {
        "id": "QNkp3b8o3rZA",
        "colab": {
          "base_uri": "https://localhost:8080/",
          "height": 530
        },
        "outputId": "f27cdf56-5664-4448-cd4b-cab71fd754aa"
      },
      "source": [
        "#sns.lineplot(data=property_data, x=\"county_fips\", y=\"claims_amount\")\n",
        "%matplotlib inline\n",
        "print(\"exterior_walls Vs claims_amount Count Plot\")\n",
        "plt.figure(figsize=(14, 7))\n",
        "ax = sns.countplot(x=\"exterior_walls\",hue=\"claims_amount\",palette=\"pastel\",data=property_data)\n",
        "ax.set_xticklabels(ax.get_xticklabels(), rotation=40, ha=\"right\")\n",
        "plt.tight_layout()\n",
        "plt.show()"
      ],
      "execution_count": null,
      "outputs": [
        {
          "output_type": "stream",
          "name": "stdout",
          "text": [
            "exterior_walls Vs claims_amount Count Plot\n"
          ]
        },
        {
          "output_type": "display_data",
          "data": {
            "text/plain": [
              "<Figure size 1008x504 with 1 Axes>"
            ],
            "image/png": "[encoded data removed]"
          },
          "metadata": {
            "needs_background": "light"
          }
        }
      ]
    },
    {
      "cell_type": "code",
      "metadata": {
        "id": "fOgNtl7Q3rj7",
        "colab": {
          "base_uri": "https://localhost:8080/",
          "height": 530
        },
        "outputId": "2250ada9-1e44-4dc9-8afc-029f726e1787"
      },
      "source": [
        "%matplotlib inline\n",
        "print(\"heating Vs claims_amount Count Plot\")\n",
        "plt.figure(figsize=(14, 7))\n",
        "ax = sns.countplot(x=\"heating\",hue=\"claims_amount\",palette=\"pastel\",data=property_data)\n",
        "ax.set_xticklabels(ax.get_xticklabels(), rotation=40, ha=\"right\")\n",
        "plt.tight_layout()\n",
        "plt.show()"
      ],
      "execution_count": null,
      "outputs": [
        {
          "output_type": "stream",
          "name": "stdout",
          "text": [
            "heating Vs claims_amount Count Plot\n"
          ]
        },
        {
          "output_type": "display_data",
          "data": {
            "text/plain": [
              "<Figure size 1008x504 with 1 Axes>"
            ],
            "image/png": "[encoded data removed]"
          },
          "metadata": {
            "needs_background": "light"
          }
        }
      ]
    },
    {
      "cell_type": "code",
      "metadata": {
        "id": "l5ZrEimU3rzr",
        "colab": {
          "base_uri": "https://localhost:8080/",
          "height": 530
        },
        "outputId": "f40897a9-6694-4708-98c1-8eb14e538665"
      },
      "source": [
        "%matplotlib inline\n",
        "print(\"fireplace Vs claims_amount Count Plot\")\n",
        "plt.figure(figsize=(14, 7))\n",
        "ax = sns.countplot(x=\"fireplace\",hue=\"claims_amount\",palette=\"pastel\",data=property_data)\n",
        "ax.set_xticklabels(ax.get_xticklabels(), rotation=40, ha=\"right\")\n",
        "plt.tight_layout()\n",
        "plt.show()"
      ],
      "execution_count": null,
      "outputs": [
        {
          "output_type": "stream",
          "name": "stdout",
          "text": [
            "fireplace Vs claims_amount Count Plot\n"
          ]
        },
        {
          "output_type": "display_data",
          "data": {
            "text/plain": [
              "<Figure size 1008x504 with 1 Axes>"
            ],
            "image/png": "[encoded data removed]"
          },
          "metadata": {
            "needs_background": "light"
          }
        }
      ]
    },
    {
      "cell_type": "code",
      "metadata": {
        "id": "wJCkdlseTYTu",
        "colab": {
          "base_uri": "https://localhost:8080/",
          "height": 530
        },
        "outputId": "cc07ad48-41e0-42de-fcdc-af1d6b76cdf7"
      },
      "source": [
        "%matplotlib inline\n",
        "print(\"garage_type_parking Vs claims_amount Count Plot\")\n",
        "plt.figure(figsize=(14, 7))\n",
        "ax = sns.countplot(x=\"garage_type_parking\",hue=\"claims_amount\",palette=\"pastel\",data=property_data)\n",
        "ax.set_xticklabels(ax.get_xticklabels(), rotation=40, ha=\"right\")\n",
        "plt.tight_layout()\n",
        "plt.show()"
      ],
      "execution_count": null,
      "outputs": [
        {
          "output_type": "stream",
          "name": "stdout",
          "text": [
            "garage_type_parking Vs claims_amount Count Plot\n"
          ]
        },
        {
          "output_type": "display_data",
          "data": {
            "text/plain": [
              "<Figure size 1008x504 with 1 Axes>"
            ],
            "image/png": "[encoded data removed]"
          },
          "metadata": {
            "needs_background": "light"
          }
        }
      ]
    },
    {
      "cell_type": "code",
      "metadata": {
        "id": "921yUqeATYYU",
        "colab": {
          "base_uri": "https://localhost:8080/",
          "height": 530
        },
        "outputId": "a7d7da5a-1fe4-4db2-8f02-f264ebe959da"
      },
      "source": [
        "%matplotlib inline\n",
        "print(\"event_type Vs claims_amount Count Plot\")\n",
        "plt.figure(figsize=(14, 7))\n",
        "ax = sns.countplot(x=\"event_type\",hue=\"claims_amount\",palette=\"pastel\",data=property_data)\n",
        "ax.set_xticklabels(ax.get_xticklabels(), rotation=40, ha=\"right\")\n",
        "plt.tight_layout()\n",
        "plt.show()"
      ],
      "execution_count": null,
      "outputs": [
        {
          "output_type": "stream",
          "name": "stdout",
          "text": [
            "event_type Vs claims_amount Count Plot\n"
          ]
        },
        {
          "output_type": "display_data",
          "data": {
            "text/plain": [
              "<Figure size 1008x504 with 1 Axes>"
            ],
            "image/png": "[encoded data removed]"
          },
          "metadata": {
            "needs_background": "light"
          }
        }
      ]
    },
    {
      "cell_type": "code",
      "metadata": {
        "id": "8b2pANEYTY3-"
      },
      "source": [],
      "execution_count": null,
      "outputs": []
    },
    {
      "cell_type": "markdown",
      "metadata": {
        "id": "L0RmAf0xUrjo"
      },
      "source": [
        "# Feature Engineering"
      ]
    },
    {
      "cell_type": "code",
      "metadata": {
        "colab": {
          "base_uri": "https://localhost:8080/"
        },
        "id": "53nJBO7FFGCV",
        "outputId": "f8afbbd8-b6f1-4f8a-a8fc-b6c23e2de452"
      },
      "source": [
        "property_data.info()"
      ],
      "execution_count": null,
      "outputs": [
        {
          "output_type": "stream",
          "name": "stdout",
          "text": [
            "<class 'pandas.core.frame.DataFrame'>\n",
            "Int64Index: 38522 entries, 0 to 120447\n",
            "Data columns (total 15 columns):\n",
            " #   Column               Non-Null Count  Dtype  \n",
            "---  ------               --------------  -----  \n",
            " 0   property_id          38522 non-null  int64  \n",
            " 1   state                38522 non-null  object \n",
            " 2   zipcode              38522 non-null  int64  \n",
            " 3   county_fips          38522 non-null  float64\n",
            " 4   total_bath_count     38522 non-null  float64\n",
            " 5   year_built           38522 non-null  float64\n",
            " 6   building_area_sq_ft  38522 non-null  float64\n",
            " 7   property_type        38522 non-null  object \n",
            " 8   exterior_walls       38522 non-null  object \n",
            " 9   heating              38522 non-null  object \n",
            " 10  fireplace            38522 non-null  object \n",
            " 11  garage_type_parking  38522 non-null  object \n",
            " 12  claims_amount        38522 non-null  int64  \n",
            " 13  record_date          38522 non-null  object \n",
            " 14  event_type           38522 non-null  object \n",
            "dtypes: float64(4), int64(3), object(8)\n",
            "memory usage: 5.7+ MB\n"
          ]
        }
      ]
    },
    {
      "cell_type": "code",
      "metadata": {
        "colab": {
          "base_uri": "https://localhost:8080/"
        },
        "id": "70bFklLiMt3O",
        "outputId": "cc73005c-aba3-4ef3-b87e-7ee376638d72"
      },
      "source": [
        "property_data['claims_amount'].unique()"
      ],
      "execution_count": null,
      "outputs": [
        {
          "output_type": "execute_result",
          "data": {
            "text/plain": [
              "array([0, 1])"
            ]
          },
          "metadata": {},
          "execution_count": 83
        }
      ]
    },
    {
      "cell_type": "markdown",
      "source": [
        "### Appling one-hot encoding for categorical values"
      ],
      "metadata": {
        "id": "LOS_Z0Qr24iy"
      }
    },
    {
      "cell_type": "code",
      "metadata": {
        "id": "ZUErIdIhLNEF"
      },
      "source": [
        "## Appling one-hot encoding for categorical values"
      ],
      "execution_count": null,
      "outputs": []
    },
    {
      "cell_type": "code",
      "metadata": {
        "id": "tSGFscXIsIEA"
      },
      "source": [
        "property_data = pd.concat([property_data.drop('event_type', axis=1), pd.get_dummies(property_data['event_type'],prefix='event_')], axis=1)"
      ],
      "execution_count": null,
      "outputs": []
    },
    {
      "cell_type": "code",
      "metadata": {
        "colab": {
          "base_uri": "https://localhost:8080/"
        },
        "id": "lc-oJ10wt8nE",
        "outputId": "0b812982-c9fe-449a-f906-4af6e4fc2a38"
      },
      "source": [
        "property_data.info()"
      ],
      "execution_count": null,
      "outputs": [
        {
          "output_type": "stream",
          "name": "stdout",
          "text": [
            "<class 'pandas.core.frame.DataFrame'>\n",
            "Int64Index: 38522 entries, 0 to 120447\n",
            "Data columns (total 16 columns):\n",
            " #   Column                 Non-Null Count  Dtype  \n",
            "---  ------                 --------------  -----  \n",
            " 0   property_id            38522 non-null  int64  \n",
            " 1   state                  38522 non-null  object \n",
            " 2   zipcode                38522 non-null  int64  \n",
            " 3   county_fips            38522 non-null  float64\n",
            " 4   total_bath_count       38522 non-null  float64\n",
            " 5   year_built             38522 non-null  float64\n",
            " 6   building_area_sq_ft    38522 non-null  float64\n",
            " 7   property_type          38522 non-null  object \n",
            " 8   exterior_walls         38522 non-null  object \n",
            " 9   heating                38522 non-null  object \n",
            " 10  fireplace              38522 non-null  object \n",
            " 11  garage_type_parking    38522 non-null  object \n",
            " 12  claims_amount          38522 non-null  int64  \n",
            " 13  record_date            38522 non-null  object \n",
            " 14  event__claim_accepted  38522 non-null  uint8  \n",
            " 15  event__claim_rejected  38522 non-null  uint8  \n",
            "dtypes: float64(4), int64(3), object(7), uint8(2)\n",
            "memory usage: 5.5+ MB\n"
          ]
        }
      ]
    },
    {
      "cell_type": "code",
      "metadata": {
        "id": "xFnukNG_t-aH"
      },
      "source": [
        "property_data = pd.concat([property_data.drop('state', axis=1), pd.get_dummies(property_data['state'],prefix='state')], axis=1)"
      ],
      "execution_count": null,
      "outputs": []
    },
    {
      "cell_type": "code",
      "metadata": {
        "id": "FwcMReaJuXqy"
      },
      "source": [
        "property_data = pd.concat([property_data.drop('property_type', axis=1), pd.get_dummies(property_data['property_type'],prefix='propertytype')], axis=1)"
      ],
      "execution_count": null,
      "outputs": []
    },
    {
      "cell_type": "code",
      "metadata": {
        "id": "PefSPuikueaU"
      },
      "source": [
        "property_data = pd.concat([property_data.drop('exterior_walls', axis=1), pd.get_dummies(property_data['exterior_walls'],prefix='exteriorwall')], axis=1)"
      ],
      "execution_count": null,
      "outputs": []
    },
    {
      "cell_type": "code",
      "metadata": {
        "id": "eHF_5mb3umQT"
      },
      "source": [
        "property_data = pd.concat([property_data.drop('heating', axis=1), pd.get_dummies(property_data['heating'],prefix='heating')], axis=1)"
      ],
      "execution_count": null,
      "outputs": []
    },
    {
      "cell_type": "code",
      "metadata": {
        "id": "OmmW9PFlutZI"
      },
      "source": [
        "property_data = pd.concat([property_data.drop('fireplace', axis=1), pd.get_dummies(property_data['fireplace'],prefix='fireplace')], axis=1)"
      ],
      "execution_count": null,
      "outputs": []
    },
    {
      "cell_type": "code",
      "metadata": {
        "id": "iGYZyiy3uzCI"
      },
      "source": [
        "property_data = pd.concat([property_data.drop('garage_type_parking', axis=1), pd.get_dummies(property_data['garage_type_parking'],prefix='garagetype')], axis=1)"
      ],
      "execution_count": null,
      "outputs": []
    },
    {
      "cell_type": "code",
      "metadata": {
        "colab": {
          "base_uri": "https://localhost:8080/"
        },
        "id": "IefLMhkFu9Dm",
        "outputId": "2f736ced-e538-45e9-c559-17fb626ac26a"
      },
      "source": [
        "property_data.info()"
      ],
      "execution_count": null,
      "outputs": [
        {
          "output_type": "stream",
          "name": "stdout",
          "text": [
            "<class 'pandas.core.frame.DataFrame'>\n",
            "Int64Index: 38522 entries, 0 to 120447\n",
            "Data columns (total 74 columns):\n",
            " #   Column                                  Non-Null Count  Dtype  \n",
            "---  ------                                  --------------  -----  \n",
            " 0   property_id                             38522 non-null  int64  \n",
            " 1   zipcode                                 38522 non-null  int64  \n",
            " 2   county_fips                             38522 non-null  float64\n",
            " 3   total_bath_count                        38522 non-null  float64\n",
            " 4   year_built                              38522 non-null  float64\n",
            " 5   building_area_sq_ft                     38522 non-null  float64\n",
            " 6   claims_amount                           38522 non-null  int64  \n",
            " 7   record_date                             38522 non-null  object \n",
            " 8   event__claim_accepted                   38522 non-null  uint8  \n",
            " 9   event__claim_rejected                   38522 non-null  uint8  \n",
            " 10  state_AZ                                38522 non-null  uint8  \n",
            " 11  state_CA                                38522 non-null  uint8  \n",
            " 12  state_FL                                38522 non-null  uint8  \n",
            " 13  state_GA                                38522 non-null  uint8  \n",
            " 14  state_IL                                38522 non-null  uint8  \n",
            " 15  state_NC                                38522 non-null  uint8  \n",
            " 16  state_NV                                38522 non-null  uint8  \n",
            " 17  state_WA                                38522 non-null  uint8  \n",
            " 18  propertytype_Condominium                38522 non-null  uint8  \n",
            " 19  propertytype_Land                       38522 non-null  uint8  \n",
            " 20  propertytype_Manufactured/Mobile Home   38522 non-null  uint8  \n",
            " 21  propertytype_Multi-Family               38522 non-null  uint8  \n",
            " 22  propertytype_Other                      38522 non-null  uint8  \n",
            " 23  propertytype_Single Family Residential  38522 non-null  uint8  \n",
            " 24  propertytype_Townhouse                  38522 non-null  uint8  \n",
            " 25  exteriorwall_Unknown                    38522 non-null  uint8  \n",
            " 26  exteriorwall_adobe                      38522 non-null  uint8  \n",
            " 27  exteriorwall_asbestos_shingle           38522 non-null  uint8  \n",
            " 28  exteriorwall_block                      38522 non-null  uint8  \n",
            " 29  exteriorwall_brick                      38522 non-null  uint8  \n",
            " 30  exteriorwall_brick_veneer               38522 non-null  uint8  \n",
            " 31  exteriorwall_combination                38522 non-null  uint8  \n",
            " 32  exteriorwall_composition                38522 non-null  uint8  \n",
            " 33  exteriorwall_concrete                   38522 non-null  uint8  \n",
            " 34  exteriorwall_concrete_block             38522 non-null  uint8  \n",
            " 35  exteriorwall_log                        38522 non-null  uint8  \n",
            " 36  exteriorwall_masonry                    38522 non-null  uint8  \n",
            " 37  exteriorwall_metal                      38522 non-null  uint8  \n",
            " 38  exteriorwall_other                      38522 non-null  uint8  \n",
            " 39  exteriorwall_rock_stone                 38522 non-null  uint8  \n",
            " 40  exteriorwall_shingle_not_wood           38522 non-null  uint8  \n",
            " 41  exteriorwall_siding_alum_vinyl          38522 non-null  uint8  \n",
            " 42  exteriorwall_stucco                     38522 non-null  uint8  \n",
            " 43  exteriorwall_tile                       38522 non-null  uint8  \n",
            " 44  exteriorwall_tilt_up_pre_cast_concrete  38522 non-null  uint8  \n",
            " 45  exteriorwall_wood                       38522 non-null  uint8  \n",
            " 46  exteriorwall_wood_shingle               38522 non-null  uint8  \n",
            " 47  exteriorwall_wood_siding                38522 non-null  uint8  \n",
            " 48  heating_baseboard                       38522 non-null  uint8  \n",
            " 49  heating_central                         38522 non-null  uint8  \n",
            " 50  heating_electric                        38522 non-null  uint8  \n",
            " 51  heating_floor_wall                      38522 non-null  uint8  \n",
            " 52  heating_forced_air_unit                 38522 non-null  uint8  \n",
            " 53  heating_gravity                         38522 non-null  uint8  \n",
            " 54  heating_heat_pump                       38522 non-null  uint8  \n",
            " 55  heating_hot_water                       38522 non-null  uint8  \n",
            " 56  heating_none                            38522 non-null  uint8  \n",
            " 57  heating_other                           38522 non-null  uint8  \n",
            " 58  heating_radiant                         38522 non-null  uint8  \n",
            " 59  heating_solar                           38522 non-null  uint8  \n",
            " 60  heating_vent                            38522 non-null  uint8  \n",
            " 61  heating_yes                             38522 non-null  uint8  \n",
            " 62  fireplace_False                         38522 non-null  uint8  \n",
            " 63  fireplace_True                          38522 non-null  uint8  \n",
            " 64  garagetype_attached_garage              38522 non-null  uint8  \n",
            " 65  garagetype_built_in                     38522 non-null  uint8  \n",
            " 66  garagetype_carport                      38522 non-null  uint8  \n",
            " 67  garagetype_detached_garage              38522 non-null  uint8  \n",
            " 68  garagetype_garage                       38522 non-null  uint8  \n",
            " 69  garagetype_mixed                        38522 non-null  uint8  \n",
            " 70  garagetype_none                         38522 non-null  uint8  \n",
            " 71  garagetype_paved_surfaced               38522 non-null  uint8  \n",
            " 72  garagetype_underground_basement         38522 non-null  uint8  \n",
            " 73  garagetype_yes                          38522 non-null  uint8  \n",
            "dtypes: float64(4), int64(3), object(1), uint8(66)\n",
            "memory usage: 6.1+ MB\n"
          ]
        }
      ]
    },
    {
      "cell_type": "markdown",
      "metadata": {
        "id": "QgsiZRDiWjr9"
      },
      "source": [
        "# Chi2 Analysis for feature importance"
      ]
    },
    {
      "cell_type": "code",
      "metadata": {
        "id": "eP1tAaiBzwS_"
      },
      "source": [
        "### Chi2 analysis for Features for their selection based on their importance."
      ],
      "execution_count": null,
      "outputs": []
    },
    {
      "cell_type": "code",
      "metadata": {
        "colab": {
          "base_uri": "https://localhost:8080/"
        },
        "id": "DtXLWqkyu_Cx",
        "outputId": "d1d39c90-89f4-4afe-9cb2-bcc1939ffbe0"
      },
      "source": [
        "from sklearn.feature_selection import SelectKBest\n",
        "from sklearn.feature_selection import chi2\n",
        "\n",
        "y = property_data.claims_amount\n",
        "X = property_data.drop(['claims_amount','property_id','record_date'],axis=1)\n",
        "#X = X.astype('int64')\n",
        "best_features = SelectKBest(chi2, k = 20)\n",
        "fit = best_features.fit(X,y)\n",
        "dfscores = pd.DataFrame(fit.scores_)\n",
        "dfcolumns = pd.DataFrame(X.columns)\n",
        "feature_scores = pd.concat([dfcolumns,dfscores],axis=1)\n",
        "feature_scores.columns = ['features','score']\n",
        "print(\"Printing Top 20 Features\\n\",feature_scores.nlargest(20,'score'))"
      ],
      "execution_count": null,
      "outputs": [
        {
          "output_type": "stream",
          "name": "stdout",
          "text": [
            "Printing Top 20 Features\n",
            "                           features          score\n",
            "0                          zipcode  432234.694783\n",
            "1                      county_fips  162890.371244\n",
            "4              building_area_sq_ft   32286.137927\n",
            "9                         state_FL     232.399101\n",
            "21          propertytype_Townhouse      77.011151\n",
            "39             exteriorwall_stucco      73.646440\n",
            "53                    heating_none      56.025132\n",
            "7                         state_AZ      44.174886\n",
            "42               exteriorwall_wood      34.433990\n",
            "58                     heating_yes      31.256777\n",
            "10                        state_GA      30.546032\n",
            "13                        state_NV      18.889248\n",
            "38  exteriorwall_siding_alum_vinyl      16.944436\n",
            "67                 garagetype_none      16.107136\n",
            "11                        state_IL      14.475640\n",
            "22            exteriorwall_Unknown      13.107916\n",
            "60                  fireplace_True      10.745146\n",
            "44        exteriorwall_wood_siding       9.340549\n",
            "61      garagetype_attached_garage       9.124924\n",
            "15        propertytype_Condominium       8.790180\n"
          ]
        }
      ]
    },
    {
      "cell_type": "markdown",
      "source": [
        "### The main features are zipcode, county, building area, state, property type, exterior wall, heating type, garage type, fireplace"
      ],
      "metadata": {
        "id": "Q1PHRImn3KSs"
      }
    },
    {
      "cell_type": "markdown",
      "metadata": {
        "id": "SXQ3GSkyW6G6"
      },
      "source": [
        "# Model Building Starts Here"
      ]
    },
    {
      "cell_type": "code",
      "metadata": {
        "id": "nTL55hJqPHwB"
      },
      "source": [
        "low_risk = property_data[property_data['claims_amount'] == 0 ]"
      ],
      "execution_count": null,
      "outputs": []
    },
    {
      "cell_type": "code",
      "metadata": {
        "colab": {
          "base_uri": "https://localhost:8080/"
        },
        "id": "BPK7kZq00dII",
        "outputId": "5e9a0de8-937a-4f59-e806-1e01298a8d66"
      },
      "source": [
        "low_risk.shape"
      ],
      "execution_count": null,
      "outputs": [
        {
          "output_type": "execute_result",
          "data": {
            "text/plain": [
              "(37562, 74)"
            ]
          },
          "metadata": {},
          "execution_count": 97
        }
      ]
    },
    {
      "cell_type": "code",
      "metadata": {
        "id": "uD-xZZB10evk"
      },
      "source": [
        "high_risk = property_data[property_data['claims_amount'] == 1 ]"
      ],
      "execution_count": null,
      "outputs": []
    },
    {
      "cell_type": "code",
      "metadata": {
        "colab": {
          "base_uri": "https://localhost:8080/"
        },
        "id": "5ajFpgFE0lFR",
        "outputId": "2669d573-904a-4962-9c48-3e7275561c0d"
      },
      "source": [
        "high_risk.shape"
      ],
      "execution_count": null,
      "outputs": [
        {
          "output_type": "execute_result",
          "data": {
            "text/plain": [
              "(960, 74)"
            ]
          },
          "metadata": {},
          "execution_count": 99
        }
      ]
    },
    {
      "cell_type": "markdown",
      "source": [
        "### Checking data is balanced or not"
      ],
      "metadata": {
        "id": "9dSx3wWr3izI"
      }
    },
    {
      "cell_type": "code",
      "metadata": {
        "id": "uabuEJ8a0n1c"
      },
      "source": [
        "## Since classes are not balanced , applying applying here for making the classes in balanced format."
      ],
      "execution_count": null,
      "outputs": []
    },
    {
      "cell_type": "code",
      "metadata": {
        "id": "aonNkhnABWn7"
      },
      "source": [
        "from imblearn.over_sampling import SMOTE\n",
        "smote = SMOTE()"
      ],
      "execution_count": null,
      "outputs": []
    },
    {
      "cell_type": "code",
      "metadata": {
        "id": "HHClGHhoBWsY"
      },
      "source": [
        "y = property_data.claims_amount\n",
        "X = property_data.drop(['claims_amount','property_id','record_date'],axis=1)"
      ],
      "execution_count": null,
      "outputs": []
    },
    {
      "cell_type": "code",
      "metadata": {
        "id": "OuNiQ6yxBWvi"
      },
      "source": [
        "X_train_smote, y_train_smote = smote.fit_resample(X, y)"
      ],
      "execution_count": null,
      "outputs": []
    },
    {
      "cell_type": "markdown",
      "source": [
        "### Splitting data for train and test"
      ],
      "metadata": {
        "id": "Mcxyzobw3qVy"
      }
    },
    {
      "cell_type": "code",
      "metadata": {
        "id": "fSvEFsybCSGV"
      },
      "source": [
        "### Splitting X and y for training...\n",
        "from sklearn.model_selection import train_test_split\n",
        "X_train, X_test, y_train, y_test = train_test_split(X_train_smote,y_train_smote,\n",
        "                        test_size=0.2, random_state=10)"
      ],
      "execution_count": null,
      "outputs": []
    },
    {
      "cell_type": "markdown",
      "source": [
        "### Model training with Logistic Regression"
      ],
      "metadata": {
        "id": "z9xUKFf_3v_X"
      }
    },
    {
      "cell_type": "code",
      "metadata": {
        "id": "0r4HjTrlCSLP"
      },
      "source": [
        "### Training with Logistic Regression...\n",
        "from sklearn.linear_model import LogisticRegression\n",
        "model = LogisticRegression()\n",
        "model.fit(X_train, y_train)  # Training\n",
        "y_predict = model.predict(X_test) # Test Prediction"
      ],
      "execution_count": null,
      "outputs": []
    },
    {
      "cell_type": "markdown",
      "source": [
        "### Evaluating logistic regression accuracy"
      ],
      "metadata": {
        "id": "8_N_0uRi33Y7"
      }
    },
    {
      "cell_type": "code",
      "metadata": {
        "colab": {
          "base_uri": "https://localhost:8080/",
          "height": 317
        },
        "id": "wpuTie8JCSNy",
        "outputId": "34812f98-5417-41bf-a417-50d8e0aa8ba7"
      },
      "source": [
        "### Printing Accuracy\n",
        "from sklearn.metrics import accuracy_score\n",
        "print(accuracy_score(y_test, y_predict))\n",
        "from sklearn.metrics import classification_report\n",
        "print(classification_report(y_test,y_predict))\n",
        "pd.crosstab(y_test, y_predict)"
      ],
      "execution_count": null,
      "outputs": [
        {
          "output_type": "stream",
          "name": "stdout",
          "text": [
            "0.5791014975041597\n",
            "              precision    recall  f1-score   support\n",
            "\n",
            "           0       0.58      0.55      0.57      7515\n",
            "           1       0.58      0.60      0.59      7510\n",
            "\n",
            "    accuracy                           0.58     15025\n",
            "   macro avg       0.58      0.58      0.58     15025\n",
            "weighted avg       0.58      0.58      0.58     15025\n",
            "\n"
          ]
        },
        {
          "output_type": "execute_result",
          "data": {
            "text/plain": [
              "col_0             0     1\n",
              "claims_amount            \n",
              "0              4161  3354\n",
              "1              2970  4540"
            ],
            "text/html": [
              "\n",
              "  <div id=\"df-2917f6b1-d092-40df-b541-0736b19d82b8\">\n",
              "    <div class=\"colab-df-container\">\n",
              "      <div>\n",
              "<style scoped>\n",
              "    .dataframe tbody tr th:only-of-type {\n",
              "        vertical-align: middle;\n",
              "    }\n",
              "\n",
              "    .dataframe tbody tr th {\n",
              "        vertical-align: top;\n",
              "    }\n",
              "\n",
              "    .dataframe thead th {\n",
              "        text-align: right;\n",
              "    }\n",
              "</style>\n",
              "<table border=\"1\" class=\"dataframe\">\n",
              "  <thead>\n",
              "    <tr style=\"text-align: right;\">\n",
              "      <th>col_0</th>\n",
              "      <th>0</th>\n",
              "      <th>1</th>\n",
              "    </tr>\n",
              "    <tr>\n",
              "      <th>claims_amount</th>\n",
              "      <th></th>\n",
              "      <th></th>\n",
              "    </tr>\n",
              "  </thead>\n",
              "  <tbody>\n",
              "    <tr>\n",
              "      <th>0</th>\n",
              "      <td>4161</td>\n",
              "      <td>3354</td>\n",
              "    </tr>\n",
              "    <tr>\n",
              "      <th>1</th>\n",
              "      <td>2970</td>\n",
              "      <td>4540</td>\n",
              "    </tr>\n",
              "  </tbody>\n",
              "</table>\n",
              "</div>\n",
              "      <button class=\"colab-df-convert\" onclick=\"convertToInteractive('df-2917f6b1-d092-40df-b541-0736b19d82b8')\"\n",
              "              title=\"Convert this dataframe to an interactive table.\"\n",
              "              style=\"display:none;\">\n",
              "        \n",
              "  <svg xmlns=\"http://www.w3.org/2000/svg\" height=\"24px\"viewBox=\"0 0 24 24\"\n",
              "       width=\"24px\">\n",
              "    <path d=\"M0 0h24v24H0V0z\" fill=\"none\"/>\n",
              "    <path d=\"M18.56 5.44l.94 2.06.94-2.06 2.06-.94-2.06-.94-.94-2.06-.94 2.06-2.06.94zm-11 1L8.5 8.5l.94-2.06 2.06-.94-2.06-.94L8.5 2.5l-.94 2.06-2.06.94zm10 10l.94 2.06.94-2.06 2.06-.94-2.06-.94-.94-2.06-.94 2.06-2.06.94z\"/><path d=\"M17.41 7.96l-1.37-1.37c-.4-.4-.92-.59-1.43-.59-.52 0-1.04.2-1.43.59L10.3 9.45l-7.72 7.72c-.78.78-.78 2.05 0 2.83L4 21.41c.39.39.9.59 1.41.59.51 0 1.02-.2 1.41-.59l7.78-7.78 2.81-2.81c.8-.78.8-2.07 0-2.86zM5.41 20L4 18.59l7.72-7.72 1.47 1.35L5.41 20z\"/>\n",
              "  </svg>\n",
              "      </button>\n",
              "      \n",
              "  <style>\n",
              "    .colab-df-container {\n",
              "      display:flex;\n",
              "      flex-wrap:wrap;\n",
              "      gap: 12px;\n",
              "    }\n",
              "\n",
              "    .colab-df-convert {\n",
              "      background-color: #E8F0FE;\n",
              "      border: none;\n",
              "      border-radius: 50%;\n",
              "      cursor: pointer;\n",
              "      display: none;\n",
              "      fill: #1967D2;\n",
              "      height: 32px;\n",
              "      padding: 0 0 0 0;\n",
              "      width: 32px;\n",
              "    }\n",
              "\n",
              "    .colab-df-convert:hover {\n",
              "      background-color: #E2EBFA;\n",
              "      box-shadow: 0px 1px 2px rgba(60, 64, 67, 0.3), 0px 1px 3px 1px rgba(60, 64, 67, 0.15);\n",
              "      fill: #174EA6;\n",
              "    }\n",
              "\n",
              "    [theme=dark] .colab-df-convert {\n",
              "      background-color: #3B4455;\n",
              "      fill: #D2E3FC;\n",
              "    }\n",
              "\n",
              "    [theme=dark] .colab-df-convert:hover {\n",
              "      background-color: #434B5C;\n",
              "      box-shadow: 0px 1px 3px 1px rgba(0, 0, 0, 0.15);\n",
              "      filter: drop-shadow(0px 1px 2px rgba(0, 0, 0, 0.3));\n",
              "      fill: #FFFFFF;\n",
              "    }\n",
              "  </style>\n",
              "\n",
              "      <script>\n",
              "        const buttonEl =\n",
              "          document.querySelector('#df-2917f6b1-d092-40df-b541-0736b19d82b8 button.colab-df-convert');\n",
              "        buttonEl.style.display =\n",
              "          google.colab.kernel.accessAllowed ? 'block' : 'none';\n",
              "\n",
              "        async function convertToInteractive(key) {\n",
              "          const element = document.querySelector('#df-2917f6b1-d092-40df-b541-0736b19d82b8');\n",
              "          const dataTable =\n",
              "            await google.colab.kernel.invokeFunction('convertToInteractive',\n",
              "                                                     [key], {});\n",
              "          if (!dataTable) return;\n",
              "\n",
              "          const docLinkHtml = 'Like what you see? Visit the ' +\n",
              "            '<a target=\"_blank\" href=https://colab.research.google.com/notebooks/data_table.ipynb>data table notebook</a>'\n",
              "            + ' to learn more about interactive tables.';\n",
              "          element.innerHTML = '';\n",
              "          dataTable['output_type'] = 'display_data';\n",
              "          await google.colab.output.renderOutput(dataTable, element);\n",
              "          const docLink = document.createElement('div');\n",
              "          docLink.innerHTML = docLinkHtml;\n",
              "          element.appendChild(docLink);\n",
              "        }\n",
              "      </script>\n",
              "    </div>\n",
              "  </div>\n",
              "  "
            ]
          },
          "metadata": {},
          "execution_count": 106
        }
      ]
    },
    {
      "cell_type": "markdown",
      "source": [
        "### Model training with XGBoost"
      ],
      "metadata": {
        "id": "NaeN3sOC4AtH"
      }
    },
    {
      "cell_type": "code",
      "metadata": {
        "colab": {
          "base_uri": "https://localhost:8080/"
        },
        "id": "pYVJG06YCSTg",
        "outputId": "77912305-78b1-4192-93db-d9cab8f4c629"
      },
      "source": [
        "### Training with XGBoost ...\n",
        "from xgboost import XGBClassifier\n",
        "xgb_model = XGBClassifier(n_estimators=45,learning_rate=0.25,random_state=100)\n",
        "xgb_model.fit(X_train,y_train)"
      ],
      "execution_count": null,
      "outputs": [
        {
          "output_type": "execute_result",
          "data": {
            "text/plain": [
              "XGBClassifier(learning_rate=0.25, n_estimators=45, random_state=100)"
            ]
          },
          "metadata": {},
          "execution_count": 107
        }
      ]
    },
    {
      "cell_type": "markdown",
      "source": [
        "### Evaluation of XGBoost accuracy"
      ],
      "metadata": {
        "id": "NEFHENT64fnW"
      }
    },
    {
      "cell_type": "code",
      "metadata": {
        "colab": {
          "base_uri": "https://localhost:8080/",
          "height": 317
        },
        "id": "wR78KlDGDrG_",
        "outputId": "3c7848fa-78ce-4973-cfae-3ca69c5def7f"
      },
      "source": [
        "### Printing Accuracy..\n",
        "y_predict2 = xgb_model.predict(X_test)\n",
        "print(accuracy_score(y_test, y_predict2))\n",
        "print(classification_report(y_test,y_predict2))\n",
        "pd.crosstab(y_test, y_predict2)"
      ],
      "execution_count": null,
      "outputs": [
        {
          "output_type": "stream",
          "name": "stdout",
          "text": [
            "0.8743427620632279\n",
            "              precision    recall  f1-score   support\n",
            "\n",
            "           0       0.86      0.89      0.88      7515\n",
            "           1       0.88      0.86      0.87      7510\n",
            "\n",
            "    accuracy                           0.87     15025\n",
            "   macro avg       0.87      0.87      0.87     15025\n",
            "weighted avg       0.87      0.87      0.87     15025\n",
            "\n"
          ]
        },
        {
          "output_type": "execute_result",
          "data": {
            "text/plain": [
              "col_0             0     1\n",
              "claims_amount            \n",
              "0              6673   842\n",
              "1              1046  6464"
            ],
            "text/html": [
              "\n",
              "  <div id=\"df-87ecd521-1afa-4fec-a7fd-0b7a56663176\">\n",
              "    <div class=\"colab-df-container\">\n",
              "      <div>\n",
              "<style scoped>\n",
              "    .dataframe tbody tr th:only-of-type {\n",
              "        vertical-align: middle;\n",
              "    }\n",
              "\n",
              "    .dataframe tbody tr th {\n",
              "        vertical-align: top;\n",
              "    }\n",
              "\n",
              "    .dataframe thead th {\n",
              "        text-align: right;\n",
              "    }\n",
              "</style>\n",
              "<table border=\"1\" class=\"dataframe\">\n",
              "  <thead>\n",
              "    <tr style=\"text-align: right;\">\n",
              "      <th>col_0</th>\n",
              "      <th>0</th>\n",
              "      <th>1</th>\n",
              "    </tr>\n",
              "    <tr>\n",
              "      <th>claims_amount</th>\n",
              "      <th></th>\n",
              "      <th></th>\n",
              "    </tr>\n",
              "  </thead>\n",
              "  <tbody>\n",
              "    <tr>\n",
              "      <th>0</th>\n",
              "      <td>6673</td>\n",
              "      <td>842</td>\n",
              "    </tr>\n",
              "    <tr>\n",
              "      <th>1</th>\n",
              "      <td>1046</td>\n",
              "      <td>6464</td>\n",
              "    </tr>\n",
              "  </tbody>\n",
              "</table>\n",
              "</div>\n",
              "      <button class=\"colab-df-convert\" onclick=\"convertToInteractive('df-87ecd521-1afa-4fec-a7fd-0b7a56663176')\"\n",
              "              title=\"Convert this dataframe to an interactive table.\"\n",
              "              style=\"display:none;\">\n",
              "        \n",
              "  <svg xmlns=\"http://www.w3.org/2000/svg\" height=\"24px\"viewBox=\"0 0 24 24\"\n",
              "       width=\"24px\">\n",
              "    <path d=\"M0 0h24v24H0V0z\" fill=\"none\"/>\n",
              "    <path d=\"M18.56 5.44l.94 2.06.94-2.06 2.06-.94-2.06-.94-.94-2.06-.94 2.06-2.06.94zm-11 1L8.5 8.5l.94-2.06 2.06-.94-2.06-.94L8.5 2.5l-.94 2.06-2.06.94zm10 10l.94 2.06.94-2.06 2.06-.94-2.06-.94-.94-2.06-.94 2.06-2.06.94z\"/><path d=\"M17.41 7.96l-1.37-1.37c-.4-.4-.92-.59-1.43-.59-.52 0-1.04.2-1.43.59L10.3 9.45l-7.72 7.72c-.78.78-.78 2.05 0 2.83L4 21.41c.39.39.9.59 1.41.59.51 0 1.02-.2 1.41-.59l7.78-7.78 2.81-2.81c.8-.78.8-2.07 0-2.86zM5.41 20L4 18.59l7.72-7.72 1.47 1.35L5.41 20z\"/>\n",
              "  </svg>\n",
              "      </button>\n",
              "      \n",
              "  <style>\n",
              "    .colab-df-container {\n",
              "      display:flex;\n",
              "      flex-wrap:wrap;\n",
              "      gap: 12px;\n",
              "    }\n",
              "\n",
              "    .colab-df-convert {\n",
              "      background-color: #E8F0FE;\n",
              "      border: none;\n",
              "      border-radius: 50%;\n",
              "      cursor: pointer;\n",
              "      display: none;\n",
              "      fill: #1967D2;\n",
              "      height: 32px;\n",
              "      padding: 0 0 0 0;\n",
              "      width: 32px;\n",
              "    }\n",
              "\n",
              "    .colab-df-convert:hover {\n",
              "      background-color: #E2EBFA;\n",
              "      box-shadow: 0px 1px 2px rgba(60, 64, 67, 0.3), 0px 1px 3px 1px rgba(60, 64, 67, 0.15);\n",
              "      fill: #174EA6;\n",
              "    }\n",
              "\n",
              "    [theme=dark] .colab-df-convert {\n",
              "      background-color: #3B4455;\n",
              "      fill: #D2E3FC;\n",
              "    }\n",
              "\n",
              "    [theme=dark] .colab-df-convert:hover {\n",
              "      background-color: #434B5C;\n",
              "      box-shadow: 0px 1px 3px 1px rgba(0, 0, 0, 0.15);\n",
              "      filter: drop-shadow(0px 1px 2px rgba(0, 0, 0, 0.3));\n",
              "      fill: #FFFFFF;\n",
              "    }\n",
              "  </style>\n",
              "\n",
              "      <script>\n",
              "        const buttonEl =\n",
              "          document.querySelector('#df-87ecd521-1afa-4fec-a7fd-0b7a56663176 button.colab-df-convert');\n",
              "        buttonEl.style.display =\n",
              "          google.colab.kernel.accessAllowed ? 'block' : 'none';\n",
              "\n",
              "        async function convertToInteractive(key) {\n",
              "          const element = document.querySelector('#df-87ecd521-1afa-4fec-a7fd-0b7a56663176');\n",
              "          const dataTable =\n",
              "            await google.colab.kernel.invokeFunction('convertToInteractive',\n",
              "                                                     [key], {});\n",
              "          if (!dataTable) return;\n",
              "\n",
              "          const docLinkHtml = 'Like what you see? Visit the ' +\n",
              "            '<a target=\"_blank\" href=https://colab.research.google.com/notebooks/data_table.ipynb>data table notebook</a>'\n",
              "            + ' to learn more about interactive tables.';\n",
              "          element.innerHTML = '';\n",
              "          dataTable['output_type'] = 'display_data';\n",
              "          await google.colab.output.renderOutput(dataTable, element);\n",
              "          const docLink = document.createElement('div');\n",
              "          docLink.innerHTML = docLinkHtml;\n",
              "          element.appendChild(docLink);\n",
              "        }\n",
              "      </script>\n",
              "    </div>\n",
              "  </div>\n",
              "  "
            ]
          },
          "metadata": {},
          "execution_count": 108
        }
      ]
    },
    {
      "cell_type": "code",
      "metadata": {
        "colab": {
          "base_uri": "https://localhost:8080/"
        },
        "id": "FGZo3p32XotH",
        "outputId": "95cdfeb5-a599-439b-8069-86c24af17832"
      },
      "source": [
        "X_train.shape"
      ],
      "execution_count": null,
      "outputs": [
        {
          "output_type": "execute_result",
          "data": {
            "text/plain": [
              "(60099, 71)"
            ]
          },
          "metadata": {},
          "execution_count": 109
        }
      ]
    },
    {
      "cell_type": "code",
      "source": [
        "X_test.head(1)"
      ],
      "metadata": {
        "colab": {
          "base_uri": "https://localhost:8080/",
          "height": 174
        },
        "id": "k42ucBoAbNOp",
        "outputId": "b30e90ab-bc7c-4255-94e7-654e123a4011"
      },
      "execution_count": null,
      "outputs": [
        {
          "output_type": "execute_result",
          "data": {
            "text/plain": [
              "       zipcode  county_fips  total_bath_count   year_built  \\\n",
              "68295    33027      12011.0               0.0  2000.170992   \n",
              "\n",
              "       building_area_sq_ft  event__claim_accepted  event__claim_rejected  \\\n",
              "68295          1902.387784                      1                      0   \n",
              "\n",
              "       state_AZ  state_CA  state_FL  ...  garagetype_attached_garage  \\\n",
              "68295         0         0         1  ...                           0   \n",
              "\n",
              "       garagetype_built_in  garagetype_carport  garagetype_detached_garage  \\\n",
              "68295                    0                   0                           0   \n",
              "\n",
              "       garagetype_garage  garagetype_mixed  garagetype_none  \\\n",
              "68295                  1                 0                0   \n",
              "\n",
              "       garagetype_paved_surfaced  garagetype_underground_basement  \\\n",
              "68295                          0                                0   \n",
              "\n",
              "       garagetype_yes  \n",
              "68295               0  \n",
              "\n",
              "[1 rows x 71 columns]"
            ],
            "text/html": [
              "\n",
              "  <div id=\"df-fdcba78b-1481-42eb-9ee0-fcb107cc11ca\">\n",
              "    <div class=\"colab-df-container\">\n",
              "      <div>\n",
              "<style scoped>\n",
              "    .dataframe tbody tr th:only-of-type {\n",
              "        vertical-align: middle;\n",
              "    }\n",
              "\n",
              "    .dataframe tbody tr th {\n",
              "        vertical-align: top;\n",
              "    }\n",
              "\n",
              "    .dataframe thead th {\n",
              "        text-align: right;\n",
              "    }\n",
              "</style>\n",
              "<table border=\"1\" class=\"dataframe\">\n",
              "  <thead>\n",
              "    <tr style=\"text-align: right;\">\n",
              "      <th></th>\n",
              "      <th>zipcode</th>\n",
              "      <th>county_fips</th>\n",
              "      <th>total_bath_count</th>\n",
              "      <th>year_built</th>\n",
              "      <th>building_area_sq_ft</th>\n",
              "      <th>event__claim_accepted</th>\n",
              "      <th>event__claim_rejected</th>\n",
              "      <th>state_AZ</th>\n",
              "      <th>state_CA</th>\n",
              "      <th>state_FL</th>\n",
              "      <th>...</th>\n",
              "      <th>garagetype_attached_garage</th>\n",
              "      <th>garagetype_built_in</th>\n",
              "      <th>garagetype_carport</th>\n",
              "      <th>garagetype_detached_garage</th>\n",
              "      <th>garagetype_garage</th>\n",
              "      <th>garagetype_mixed</th>\n",
              "      <th>garagetype_none</th>\n",
              "      <th>garagetype_paved_surfaced</th>\n",
              "      <th>garagetype_underground_basement</th>\n",
              "      <th>garagetype_yes</th>\n",
              "    </tr>\n",
              "  </thead>\n",
              "  <tbody>\n",
              "    <tr>\n",
              "      <th>68295</th>\n",
              "      <td>33027</td>\n",
              "      <td>12011.0</td>\n",
              "      <td>0.0</td>\n",
              "      <td>2000.170992</td>\n",
              "      <td>1902.387784</td>\n",
              "      <td>1</td>\n",
              "      <td>0</td>\n",
              "      <td>0</td>\n",
              "      <td>0</td>\n",
              "      <td>1</td>\n",
              "      <td>...</td>\n",
              "      <td>0</td>\n",
              "      <td>0</td>\n",
              "      <td>0</td>\n",
              "      <td>0</td>\n",
              "      <td>1</td>\n",
              "      <td>0</td>\n",
              "      <td>0</td>\n",
              "      <td>0</td>\n",
              "      <td>0</td>\n",
              "      <td>0</td>\n",
              "    </tr>\n",
              "  </tbody>\n",
              "</table>\n",
              "<p>1 rows × 71 columns</p>\n",
              "</div>\n",
              "      <button class=\"colab-df-convert\" onclick=\"convertToInteractive('df-fdcba78b-1481-42eb-9ee0-fcb107cc11ca')\"\n",
              "              title=\"Convert this dataframe to an interactive table.\"\n",
              "              style=\"display:none;\">\n",
              "        \n",
              "  <svg xmlns=\"http://www.w3.org/2000/svg\" height=\"24px\"viewBox=\"0 0 24 24\"\n",
              "       width=\"24px\">\n",
              "    <path d=\"M0 0h24v24H0V0z\" fill=\"none\"/>\n",
              "    <path d=\"M18.56 5.44l.94 2.06.94-2.06 2.06-.94-2.06-.94-.94-2.06-.94 2.06-2.06.94zm-11 1L8.5 8.5l.94-2.06 2.06-.94-2.06-.94L8.5 2.5l-.94 2.06-2.06.94zm10 10l.94 2.06.94-2.06 2.06-.94-2.06-.94-.94-2.06-.94 2.06-2.06.94z\"/><path d=\"M17.41 7.96l-1.37-1.37c-.4-.4-.92-.59-1.43-.59-.52 0-1.04.2-1.43.59L10.3 9.45l-7.72 7.72c-.78.78-.78 2.05 0 2.83L4 21.41c.39.39.9.59 1.41.59.51 0 1.02-.2 1.41-.59l7.78-7.78 2.81-2.81c.8-.78.8-2.07 0-2.86zM5.41 20L4 18.59l7.72-7.72 1.47 1.35L5.41 20z\"/>\n",
              "  </svg>\n",
              "      </button>\n",
              "      \n",
              "  <style>\n",
              "    .colab-df-container {\n",
              "      display:flex;\n",
              "      flex-wrap:wrap;\n",
              "      gap: 12px;\n",
              "    }\n",
              "\n",
              "    .colab-df-convert {\n",
              "      background-color: #E8F0FE;\n",
              "      border: none;\n",
              "      border-radius: 50%;\n",
              "      cursor: pointer;\n",
              "      display: none;\n",
              "      fill: #1967D2;\n",
              "      height: 32px;\n",
              "      padding: 0 0 0 0;\n",
              "      width: 32px;\n",
              "    }\n",
              "\n",
              "    .colab-df-convert:hover {\n",
              "      background-color: #E2EBFA;\n",
              "      box-shadow: 0px 1px 2px rgba(60, 64, 67, 0.3), 0px 1px 3px 1px rgba(60, 64, 67, 0.15);\n",
              "      fill: #174EA6;\n",
              "    }\n",
              "\n",
              "    [theme=dark] .colab-df-convert {\n",
              "      background-color: #3B4455;\n",
              "      fill: #D2E3FC;\n",
              "    }\n",
              "\n",
              "    [theme=dark] .colab-df-convert:hover {\n",
              "      background-color: #434B5C;\n",
              "      box-shadow: 0px 1px 3px 1px rgba(0, 0, 0, 0.15);\n",
              "      filter: drop-shadow(0px 1px 2px rgba(0, 0, 0, 0.3));\n",
              "      fill: #FFFFFF;\n",
              "    }\n",
              "  </style>\n",
              "\n",
              "      <script>\n",
              "        const buttonEl =\n",
              "          document.querySelector('#df-fdcba78b-1481-42eb-9ee0-fcb107cc11ca button.colab-df-convert');\n",
              "        buttonEl.style.display =\n",
              "          google.colab.kernel.accessAllowed ? 'block' : 'none';\n",
              "\n",
              "        async function convertToInteractive(key) {\n",
              "          const element = document.querySelector('#df-fdcba78b-1481-42eb-9ee0-fcb107cc11ca');\n",
              "          const dataTable =\n",
              "            await google.colab.kernel.invokeFunction('convertToInteractive',\n",
              "                                                     [key], {});\n",
              "          if (!dataTable) return;\n",
              "\n",
              "          const docLinkHtml = 'Like what you see? Visit the ' +\n",
              "            '<a target=\"_blank\" href=https://colab.research.google.com/notebooks/data_table.ipynb>data table notebook</a>'\n",
              "            + ' to learn more about interactive tables.';\n",
              "          element.innerHTML = '';\n",
              "          dataTable['output_type'] = 'display_data';\n",
              "          await google.colab.output.renderOutput(dataTable, element);\n",
              "          const docLink = document.createElement('div');\n",
              "          docLink.innerHTML = docLinkHtml;\n",
              "          element.appendChild(docLink);\n",
              "        }\n",
              "      </script>\n",
              "    </div>\n",
              "  </div>\n",
              "  "
            ]
          },
          "metadata": {},
          "execution_count": 110
        }
      ]
    },
    {
      "cell_type": "code",
      "source": [
        "X_test.to_csv(\"test_property.csv\")"
      ],
      "metadata": {
        "id": "DHliVof9beK1"
      },
      "execution_count": null,
      "outputs": []
    },
    {
      "cell_type": "code",
      "source": [
        "X_train.columns"
      ],
      "metadata": {
        "colab": {
          "base_uri": "https://localhost:8080/"
        },
        "id": "tC9JxynLgKNn",
        "outputId": "3cb4b58e-4c7e-4367-b484-ab4f862b3516"
      },
      "execution_count": null,
      "outputs": [
        {
          "output_type": "execute_result",
          "data": {
            "text/plain": [
              "Index(['zipcode', 'county_fips', 'total_bath_count', 'year_built',\n",
              "       'building_area_sq_ft', 'event__claim_accepted', 'event__claim_rejected',\n",
              "       'state_AZ', 'state_CA', 'state_FL', 'state_GA', 'state_IL', 'state_NC',\n",
              "       'state_NV', 'state_WA', 'propertytype_Condominium', 'propertytype_Land',\n",
              "       'propertytype_Manufactured/Mobile Home', 'propertytype_Multi-Family',\n",
              "       'propertytype_Other', 'propertytype_Single Family Residential',\n",
              "       'propertytype_Townhouse', 'exteriorwall_Unknown', 'exteriorwall_adobe',\n",
              "       'exteriorwall_asbestos_shingle', 'exteriorwall_block',\n",
              "       'exteriorwall_brick', 'exteriorwall_brick_veneer',\n",
              "       'exteriorwall_combination', 'exteriorwall_composition',\n",
              "       'exteriorwall_concrete', 'exteriorwall_concrete_block',\n",
              "       'exteriorwall_log', 'exteriorwall_masonry', 'exteriorwall_metal',\n",
              "       'exteriorwall_other', 'exteriorwall_rock_stone',\n",
              "       'exteriorwall_shingle_not_wood', 'exteriorwall_siding_alum_vinyl',\n",
              "       'exteriorwall_stucco', 'exteriorwall_tile',\n",
              "       'exteriorwall_tilt_up_pre_cast_concrete', 'exteriorwall_wood',\n",
              "       'exteriorwall_wood_shingle', 'exteriorwall_wood_siding',\n",
              "       'heating_baseboard', 'heating_central', 'heating_electric',\n",
              "       'heating_floor_wall', 'heating_forced_air_unit', 'heating_gravity',\n",
              "       'heating_heat_pump', 'heating_hot_water', 'heating_none',\n",
              "       'heating_other', 'heating_radiant', 'heating_solar', 'heating_vent',\n",
              "       'heating_yes', 'fireplace_False', 'fireplace_True',\n",
              "       'garagetype_attached_garage', 'garagetype_built_in',\n",
              "       'garagetype_carport', 'garagetype_detached_garage', 'garagetype_garage',\n",
              "       'garagetype_mixed', 'garagetype_none', 'garagetype_paved_surfaced',\n",
              "       'garagetype_underground_basement', 'garagetype_yes'],\n",
              "      dtype='object')"
            ]
          },
          "metadata": {},
          "execution_count": 112
        }
      ]
    },
    {
      "cell_type": "code",
      "source": [
        "X_test.shape"
      ],
      "metadata": {
        "colab": {
          "base_uri": "https://localhost:8080/"
        },
        "id": "UWoH_40_iAwW",
        "outputId": "facae535-83f7-4093-855a-1b5d5aaa17c2"
      },
      "execution_count": null,
      "outputs": [
        {
          "output_type": "execute_result",
          "data": {
            "text/plain": [
              "(15025, 71)"
            ]
          },
          "metadata": {},
          "execution_count": 113
        }
      ]
    },
    {
      "cell_type": "code",
      "source": [
        "X_train.shape"
      ],
      "metadata": {
        "colab": {
          "base_uri": "https://localhost:8080/"
        },
        "id": "z7PmV5vznJqw",
        "outputId": "fc190a7b-e0c0-40d0-ed71-d8c05482defd"
      },
      "execution_count": null,
      "outputs": [
        {
          "output_type": "execute_result",
          "data": {
            "text/plain": [
              "(60099, 71)"
            ]
          },
          "metadata": {},
          "execution_count": 114
        }
      ]
    },
    {
      "cell_type": "markdown",
      "source": [
        "### Model training with Random Forest"
      ],
      "metadata": {
        "id": "Rby5E88O4lu_"
      }
    },
    {
      "cell_type": "code",
      "metadata": {
        "colab": {
          "base_uri": "https://localhost:8080/"
        },
        "id": "bjkplhkVDrLJ",
        "outputId": "2e09dd0d-6401-4730-e01d-e0b89d5378b1"
      },
      "source": [
        "### Training with Random Forest...\n",
        "from sklearn.ensemble import RandomForestClassifier\n",
        "RF_model = RandomForestClassifier(max_depth=11,n_estimators=15,max_features=71,\n",
        "                                  criterion='gini',random_state=11)\n",
        "RF_model.fit(X_train,y_train)"
      ],
      "execution_count": null,
      "outputs": [
        {
          "output_type": "execute_result",
          "data": {
            "text/plain": [
              "RandomForestClassifier(max_depth=11, max_features=71, n_estimators=15,\n",
              "                       random_state=11)"
            ]
          },
          "metadata": {},
          "execution_count": 115
        }
      ]
    },
    {
      "cell_type": "code",
      "source": [
        "importances = list(RF_model.feature_importances_)"
      ],
      "metadata": {
        "id": "sNJeRSYelGpy"
      },
      "execution_count": null,
      "outputs": []
    },
    {
      "cell_type": "code",
      "source": [
        "RF_model.feature_importances_"
      ],
      "metadata": {
        "id": "aWLv6FPVlLkN",
        "colab": {
          "base_uri": "https://localhost:8080/"
        },
        "outputId": "fe979539-3d19-4ae7-aa12-ccbb2f0b0a7e"
      },
      "execution_count": null,
      "outputs": [
        {
          "output_type": "execute_result",
          "data": {
            "text/plain": [
              "array([6.08563201e-02, 4.60922061e-02, 3.45495397e-01, 4.54549349e-02,\n",
              "       5.82639066e-02, 1.13720483e-02, 1.74247036e-02, 5.96535920e-05,\n",
              "       0.00000000e+00, 8.80238381e-02, 4.67576763e-05, 3.17773511e-04,\n",
              "       0.00000000e+00, 4.53512060e-03, 6.42049578e-06, 7.40933552e-03,\n",
              "       9.44610152e-05, 2.94218329e-03, 8.77471372e-03, 5.83980769e-04,\n",
              "       3.53470642e-02, 9.91693739e-03, 3.45459582e-03, 0.00000000e+00,\n",
              "       5.80917997e-05, 9.93760759e-03, 4.25151861e-03, 3.44247201e-05,\n",
              "       4.63942439e-03, 5.70683833e-04, 1.09693579e-04, 2.15357872e-03,\n",
              "       0.00000000e+00, 7.92210162e-04, 0.00000000e+00, 1.20132564e-02,\n",
              "       0.00000000e+00, 1.67286463e-05, 1.16133878e-02, 5.98456100e-03,\n",
              "       1.21310472e-03, 6.04404755e-06, 3.54350398e-02, 0.00000000e+00,\n",
              "       1.73860473e-03, 0.00000000e+00, 1.14621597e-02, 0.00000000e+00,\n",
              "       2.00460922e-04, 6.37739701e-03, 0.00000000e+00, 7.77429752e-04,\n",
              "       0.00000000e+00, 6.26544532e-03, 3.03200305e-05, 0.00000000e+00,\n",
              "       1.49492998e-05, 4.65422049e-04, 1.05510118e-03, 2.81105271e-02,\n",
              "       2.19949509e-02, 2.47243627e-02, 5.95130609e-03, 1.01954947e-02,\n",
              "       1.26973517e-04, 1.66126729e-02, 3.56028753e-03, 2.05247704e-02,\n",
              "       0.00000000e+00, 4.50965632e-03, 0.00000000e+00])"
            ]
          },
          "metadata": {},
          "execution_count": 117
        }
      ]
    },
    {
      "cell_type": "markdown",
      "source": [
        "### Random Forest model accuracy"
      ],
      "metadata": {
        "id": "WlF7oozk4r7-"
      }
    },
    {
      "cell_type": "code",
      "metadata": {
        "colab": {
          "base_uri": "https://localhost:8080/",
          "height": 317
        },
        "id": "5st3fIoQDrOe",
        "outputId": "ec8e1127-3f87-441e-db89-0820a04a8cf4"
      },
      "source": [
        "### Printing Accuracy...\n",
        "y_predict3 = RF_model.predict(X_test)\n",
        "print(accuracy_score(y_test, y_predict3))\n",
        "print(classification_report(y_test,y_predict3))\n",
        "pd.crosstab(y_test, y_predict3)"
      ],
      "execution_count": null,
      "outputs": [
        {
          "output_type": "stream",
          "name": "stdout",
          "text": [
            "0.897171381031614\n",
            "              precision    recall  f1-score   support\n",
            "\n",
            "           0       0.89      0.91      0.90      7515\n",
            "           1       0.91      0.88      0.90      7510\n",
            "\n",
            "    accuracy                           0.90     15025\n",
            "   macro avg       0.90      0.90      0.90     15025\n",
            "weighted avg       0.90      0.90      0.90     15025\n",
            "\n"
          ]
        },
        {
          "output_type": "execute_result",
          "data": {
            "text/plain": [
              "col_0             0     1\n",
              "claims_amount            \n",
              "0              6861   654\n",
              "1               891  6619"
            ],
            "text/html": [
              "\n",
              "  <div id=\"df-78e8ea81-ac15-4b67-950d-1175a57b4b6e\">\n",
              "    <div class=\"colab-df-container\">\n",
              "      <div>\n",
              "<style scoped>\n",
              "    .dataframe tbody tr th:only-of-type {\n",
              "        vertical-align: middle;\n",
              "    }\n",
              "\n",
              "    .dataframe tbody tr th {\n",
              "        vertical-align: top;\n",
              "    }\n",
              "\n",
              "    .dataframe thead th {\n",
              "        text-align: right;\n",
              "    }\n",
              "</style>\n",
              "<table border=\"1\" class=\"dataframe\">\n",
              "  <thead>\n",
              "    <tr style=\"text-align: right;\">\n",
              "      <th>col_0</th>\n",
              "      <th>0</th>\n",
              "      <th>1</th>\n",
              "    </tr>\n",
              "    <tr>\n",
              "      <th>claims_amount</th>\n",
              "      <th></th>\n",
              "      <th></th>\n",
              "    </tr>\n",
              "  </thead>\n",
              "  <tbody>\n",
              "    <tr>\n",
              "      <th>0</th>\n",
              "      <td>6861</td>\n",
              "      <td>654</td>\n",
              "    </tr>\n",
              "    <tr>\n",
              "      <th>1</th>\n",
              "      <td>891</td>\n",
              "      <td>6619</td>\n",
              "    </tr>\n",
              "  </tbody>\n",
              "</table>\n",
              "</div>\n",
              "      <button class=\"colab-df-convert\" onclick=\"convertToInteractive('df-78e8ea81-ac15-4b67-950d-1175a57b4b6e')\"\n",
              "              title=\"Convert this dataframe to an interactive table.\"\n",
              "              style=\"display:none;\">\n",
              "        \n",
              "  <svg xmlns=\"http://www.w3.org/2000/svg\" height=\"24px\"viewBox=\"0 0 24 24\"\n",
              "       width=\"24px\">\n",
              "    <path d=\"M0 0h24v24H0V0z\" fill=\"none\"/>\n",
              "    <path d=\"M18.56 5.44l.94 2.06.94-2.06 2.06-.94-2.06-.94-.94-2.06-.94 2.06-2.06.94zm-11 1L8.5 8.5l.94-2.06 2.06-.94-2.06-.94L8.5 2.5l-.94 2.06-2.06.94zm10 10l.94 2.06.94-2.06 2.06-.94-2.06-.94-.94-2.06-.94 2.06-2.06.94z\"/><path d=\"M17.41 7.96l-1.37-1.37c-.4-.4-.92-.59-1.43-.59-.52 0-1.04.2-1.43.59L10.3 9.45l-7.72 7.72c-.78.78-.78 2.05 0 2.83L4 21.41c.39.39.9.59 1.41.59.51 0 1.02-.2 1.41-.59l7.78-7.78 2.81-2.81c.8-.78.8-2.07 0-2.86zM5.41 20L4 18.59l7.72-7.72 1.47 1.35L5.41 20z\"/>\n",
              "  </svg>\n",
              "      </button>\n",
              "      \n",
              "  <style>\n",
              "    .colab-df-container {\n",
              "      display:flex;\n",
              "      flex-wrap:wrap;\n",
              "      gap: 12px;\n",
              "    }\n",
              "\n",
              "    .colab-df-convert {\n",
              "      background-color: #E8F0FE;\n",
              "      border: none;\n",
              "      border-radius: 50%;\n",
              "      cursor: pointer;\n",
              "      display: none;\n",
              "      fill: #1967D2;\n",
              "      height: 32px;\n",
              "      padding: 0 0 0 0;\n",
              "      width: 32px;\n",
              "    }\n",
              "\n",
              "    .colab-df-convert:hover {\n",
              "      background-color: #E2EBFA;\n",
              "      box-shadow: 0px 1px 2px rgba(60, 64, 67, 0.3), 0px 1px 3px 1px rgba(60, 64, 67, 0.15);\n",
              "      fill: #174EA6;\n",
              "    }\n",
              "\n",
              "    [theme=dark] .colab-df-convert {\n",
              "      background-color: #3B4455;\n",
              "      fill: #D2E3FC;\n",
              "    }\n",
              "\n",
              "    [theme=dark] .colab-df-convert:hover {\n",
              "      background-color: #434B5C;\n",
              "      box-shadow: 0px 1px 3px 1px rgba(0, 0, 0, 0.15);\n",
              "      filter: drop-shadow(0px 1px 2px rgba(0, 0, 0, 0.3));\n",
              "      fill: #FFFFFF;\n",
              "    }\n",
              "  </style>\n",
              "\n",
              "      <script>\n",
              "        const buttonEl =\n",
              "          document.querySelector('#df-78e8ea81-ac15-4b67-950d-1175a57b4b6e button.colab-df-convert');\n",
              "        buttonEl.style.display =\n",
              "          google.colab.kernel.accessAllowed ? 'block' : 'none';\n",
              "\n",
              "        async function convertToInteractive(key) {\n",
              "          const element = document.querySelector('#df-78e8ea81-ac15-4b67-950d-1175a57b4b6e');\n",
              "          const dataTable =\n",
              "            await google.colab.kernel.invokeFunction('convertToInteractive',\n",
              "                                                     [key], {});\n",
              "          if (!dataTable) return;\n",
              "\n",
              "          const docLinkHtml = 'Like what you see? Visit the ' +\n",
              "            '<a target=\"_blank\" href=https://colab.research.google.com/notebooks/data_table.ipynb>data table notebook</a>'\n",
              "            + ' to learn more about interactive tables.';\n",
              "          element.innerHTML = '';\n",
              "          dataTable['output_type'] = 'display_data';\n",
              "          await google.colab.output.renderOutput(dataTable, element);\n",
              "          const docLink = document.createElement('div');\n",
              "          docLink.innerHTML = docLinkHtml;\n",
              "          element.appendChild(docLink);\n",
              "        }\n",
              "      </script>\n",
              "    </div>\n",
              "  </div>\n",
              "  "
            ]
          },
          "metadata": {},
          "execution_count": 118
        }
      ]
    },
    {
      "cell_type": "markdown",
      "source": [
        "### Plotting ROC curve for Logistic Regression"
      ],
      "metadata": {
        "id": "gEXnzIuT441s"
      }
    },
    {
      "cell_type": "code",
      "metadata": {
        "colab": {
          "base_uri": "https://localhost:8080/",
          "height": 330
        },
        "id": "5r-3qPvtE9aW",
        "outputId": "bd7fab50-a95e-4863-94f3-11632a5bf53a"
      },
      "source": [
        "from sklearn import metrics\n",
        "%matplotlib inline\n",
        "fpr, tpr, thresholds = metrics.roc_curve(y_test, y_predict)\n",
        "print(\"threshold values\",fpr, tpr, thresholds)\n",
        "plt.plot(fpr, tpr)\n",
        "plt.xlim([0.0, 1.0])\n",
        "plt.ylim([0.0, 1.0])\n",
        "plt.title('ROC curve for Logistic classifier')\n",
        "plt.xlabel('False Positive Rate (1 - Specificity)')\n",
        "plt.ylabel('True Positive Rate (Sensitivity)')\n",
        "plt.grid(True)\n",
        "plt.show()\n",
        "print(metrics.roc_auc_score(y_test,y_predict))"
      ],
      "execution_count": null,
      "outputs": [
        {
          "output_type": "stream",
          "name": "stdout",
          "text": [
            "threshold values [0.         0.44630739 1.        ] [0.        0.6045273 1.       ] [2 1 0]\n"
          ]
        },
        {
          "output_type": "display_data",
          "data": {
            "text/plain": [
              "<Figure size 432x288 with 1 Axes>"
            ],
            "image/png": "[encoded data removed]"
          },
          "metadata": {
            "needs_background": "light"
          }
        },
        {
          "output_type": "stream",
          "name": "stdout",
          "text": [
            "0.579109955853938\n"
          ]
        }
      ]
    },
    {
      "cell_type": "markdown",
      "source": [
        "### Plotting ROC curve for XGBoost"
      ],
      "metadata": {
        "id": "fsRt85pB4-4Z"
      }
    },
    {
      "cell_type": "code",
      "metadata": {
        "id": "EETjmI4xBW2u",
        "colab": {
          "base_uri": "https://localhost:8080/",
          "height": 330
        },
        "outputId": "6d0f7f1a-c122-40ea-eeec-e43283b9fd10"
      },
      "source": [
        "fpr, tpr, thresholds = metrics.roc_curve(y_test, y_predict2)\n",
        "print(\"threshold values\",fpr, tpr, thresholds)\n",
        "plt.plot(fpr, tpr)\n",
        "plt.xlim([0.0, 1.0])\n",
        "plt.ylim([0.0, 1.0])\n",
        "plt.title('ROC curve for XGBoost classifier')\n",
        "plt.xlabel('False Positive Rate (1 - Specificity)')\n",
        "plt.ylabel('True Positive Rate (Sensitivity)')\n",
        "plt.grid(True)\n",
        "plt.show()\n",
        "print(metrics.roc_auc_score(y_test,y_predict2))"
      ],
      "execution_count": null,
      "outputs": [
        {
          "output_type": "stream",
          "name": "stdout",
          "text": [
            "threshold values [0.         0.11204258 1.        ] [0.         0.86071904 1.        ] [2 1 0]\n"
          ]
        },
        {
          "output_type": "display_data",
          "data": {
            "text/plain": [
              "<Figure size 432x288 with 1 Axes>"
            ],
            "image/png": "[encoded data removed]"
          },
          "metadata": {
            "needs_background": "light"
          }
        },
        {
          "output_type": "stream",
          "name": "stdout",
          "text": [
            "0.8743382298873181\n"
          ]
        }
      ]
    },
    {
      "cell_type": "markdown",
      "source": [
        "### Plotting ROC curve for Random Forest"
      ],
      "metadata": {
        "id": "qacsh4NU5EFo"
      }
    },
    {
      "cell_type": "code",
      "metadata": {
        "colab": {
          "base_uri": "https://localhost:8080/",
          "height": 330
        },
        "id": "vYqqr_9rk3yR",
        "outputId": "b1718c39-27ac-42da-fea6-ccd58a79782c"
      },
      "source": [
        "fpr, tpr, thresholds = metrics.roc_curve(y_test, y_predict3)\n",
        "print(\"threshold values\",fpr, tpr, thresholds)\n",
        "plt.plot(fpr, tpr)\n",
        "plt.xlim([0.0, 1.0])\n",
        "plt.ylim([0.0, 1.0])\n",
        "plt.title('ROC curve for Random Forest classifier')\n",
        "plt.xlabel('False Positive Rate (1 - Specificity)')\n",
        "plt.ylabel('True Positive Rate (Sensitivity)')\n",
        "plt.grid(True)\n",
        "plt.show()\n",
        "print(metrics.roc_auc_score(y_test,y_predict3))"
      ],
      "execution_count": null,
      "outputs": [
        {
          "output_type": "stream",
          "name": "stdout",
          "text": [
            "threshold values [0.         0.08702595 1.        ] [0.         0.88135819 1.        ] [2 1 0]\n"
          ]
        },
        {
          "output_type": "display_data",
          "data": {
            "text/plain": [
              "<Figure size 432x288 with 1 Axes>"
            ],
            "image/png": "[encoded data removed]"
          },
          "metadata": {
            "needs_background": "light"
          }
        },
        {
          "output_type": "stream",
          "name": "stdout",
          "text": [
            "0.8971661204887162\n"
          ]
        }
      ]
    },
    {
      "cell_type": "markdown",
      "metadata": {
        "id": "7cklXFKKYfvD"
      },
      "source": [
        "# Hyper Parameter Tuning"
      ]
    },
    {
      "cell_type": "code",
      "metadata": {
        "id": "W3T-_Hrxk4DG"
      },
      "source": [
        "from sklearn.model_selection import RandomizedSearchCV\n",
        "\n",
        "n_estimators = [int(x) for x in np.linspace(start = 50, stop = 300, num = 6)]\n",
        "max_features = ['auto', 'sqrt']\n",
        "max_depth = [int(x) for x in np.linspace(10, 50, num = 5)]\n",
        "max_depth.append(None)\n",
        "min_samples_split = [2, 5, 10]\n",
        "min_samples_leaf = [1, 2, 4]\n",
        "bootstrap = [True, False]"
      ],
      "execution_count": null,
      "outputs": []
    },
    {
      "cell_type": "markdown",
      "source": [
        "### Hyper Parameter Tuning Random Forest..."
      ],
      "metadata": {
        "id": "oqNBtVEFxD7L"
      }
    },
    {
      "cell_type": "code",
      "metadata": {
        "id": "-KT-vB3hk4J5",
        "colab": {
          "base_uri": "https://localhost:8080/"
        },
        "outputId": "9ff58e9e-0164-4243-a468-960251e7cb42"
      },
      "source": [
        "random_grid = {'n_estimators': n_estimators,\n",
        "               'max_features': max_features,\n",
        "               'max_depth': max_depth,\n",
        "               'min_samples_split': min_samples_split,\n",
        "               'min_samples_leaf': min_samples_leaf,\n",
        "               'bootstrap': bootstrap}\n",
        "print(random_grid)"
      ],
      "execution_count": null,
      "outputs": [
        {
          "output_type": "stream",
          "name": "stdout",
          "text": [
            "{'n_estimators': [50, 100, 150, 200, 250, 300], 'max_features': ['auto', 'sqrt'], 'max_depth': [10, 20, 30, 40, 50, None], 'min_samples_split': [2, 5, 10], 'min_samples_leaf': [1, 2, 4], 'bootstrap': [True, False]}\n"
          ]
        }
      ]
    },
    {
      "cell_type": "code",
      "metadata": {
        "id": "SaIFLH0nZBYT"
      },
      "source": [
        "Rand_Forest = RandomForestClassifier()\n",
        "RF_Tuned = RandomizedSearchCV(estimator = Rand_Forest, param_distributions = random_grid,\n",
        "                              n_iter = 75, cv = 3, verbose=2, random_state=42)\n",
        "RF_Tuned.fit(X_train, y_train)"
      ],
      "execution_count": null,
      "outputs": []
    },
    {
      "cell_type": "markdown",
      "source": [
        "### Evaluating accuracy of Random Forest tuned model..."
      ],
      "metadata": {
        "id": "yZMqF5_GxQvc"
      }
    },
    {
      "cell_type": "code",
      "metadata": {
        "id": "NN5YIEW5ZBdX"
      },
      "source": [
        "#RF_Tuned\n",
        "y_predict4 = RF_Tuned.predict(X_test)\n",
        "print(accuracy_score(y_test, y_predict4))\n",
        "print(classification_report(y_test,y_predict4))\n",
        "pd.crosstab(y_test, y_predict4)"
      ],
      "execution_count": null,
      "outputs": []
    },
    {
      "cell_type": "markdown",
      "source": [
        "### Plotting ROC Curve of Random Forest tuned model"
      ],
      "metadata": {
        "id": "1drVBNihxjlO"
      }
    },
    {
      "cell_type": "code",
      "metadata": {
        "id": "Dd3lZXDZp9ML"
      },
      "source": [
        "### Plotting ROC Curve..."
      ],
      "execution_count": null,
      "outputs": []
    },
    {
      "cell_type": "code",
      "metadata": {
        "id": "CvOQtjphpT53"
      },
      "source": [
        "fpr, tpr, thresholds = metrics.roc_curve(y_test, y_predict4)\n",
        "print(\"threshold values\",fpr, tpr, thresholds)\n",
        "plt.plot(fpr, tpr)\n",
        "plt.xlim([0.0, 1.0])\n",
        "plt.ylim([0.0, 1.0])\n",
        "plt.title('ROC curve for Random Forest Tuned classifier')\n",
        "plt.xlabel('False Positive Rate (1 - Specificity)')\n",
        "plt.ylabel('True Positive Rate (Sensitivity)')\n",
        "plt.grid(True)\n",
        "plt.show()\n",
        "print(metrics.roc_auc_score(y_test,y_predict4))"
      ],
      "execution_count": null,
      "outputs": []
    },
    {
      "cell_type": "markdown",
      "source": [
        "### Hyper Parameter Tuning XGBoost..."
      ],
      "metadata": {
        "id": "UF7_PjhHxu4F"
      }
    },
    {
      "cell_type": "code",
      "metadata": {
        "id": "y3X58aU8pgul"
      },
      "source": [
        "### Parameter Tuning XGBoost..."
      ],
      "execution_count": null,
      "outputs": []
    },
    {
      "cell_type": "code",
      "metadata": {
        "id": "yXFP2500-84A"
      },
      "source": [
        "params = { 'max_depth': [3, 5, 6, 10, 15, 20],\n",
        "           'learning_rate': [0.01, 0.1, 0.2, 0.3],\n",
        "           'subsample': np.arange(0.5, 1.0, 0.1),\n",
        "           'colsample_bytree': np.arange(0.4, 1.0, 0.1),\n",
        "           'colsample_bylevel': np.arange(0.4, 1.0, 0.1),\n",
        "           'n_estimators': [25, 50, 100]}"
      ],
      "execution_count": null,
      "outputs": []
    },
    {
      "cell_type": "code",
      "metadata": {
        "id": "ReCknotf__yD"
      },
      "source": [
        "xgb = XGBClassifier()\n",
        "xgb_tuned = RandomizedSearchCV(estimator=xgb,\n",
        "                         param_distributions=params,\n",
        "                         n_iter=25,\n",
        "                         verbose=1)"
      ],
      "execution_count": null,
      "outputs": []
    },
    {
      "cell_type": "code",
      "metadata": {
        "id": "YSb1iT2v__1i"
      },
      "source": [
        "xgb_tuned.fit(X_train, y_train)"
      ],
      "execution_count": null,
      "outputs": []
    },
    {
      "cell_type": "markdown",
      "source": [
        "### Evaluating accuracy of tuned XGBoost model"
      ],
      "metadata": {
        "id": "GCFOsWM4x1n2"
      }
    },
    {
      "cell_type": "code",
      "metadata": {
        "id": "uCPeDyPIJ53q"
      },
      "source": [
        "y_predict5 = xgb_tuned.predict(X_test)\n",
        "print(accuracy_score(y_test, y_predict5))\n",
        "print(classification_report(y_test,y_predict5))\n",
        "pd.crosstab(y_test, y_predict5)"
      ],
      "execution_count": null,
      "outputs": []
    },
    {
      "cell_type": "code",
      "metadata": {
        "id": "DtsQmCFTqEf7"
      },
      "source": [
        "### Plotting ROC Curve ..."
      ],
      "execution_count": null,
      "outputs": []
    },
    {
      "cell_type": "code",
      "metadata": {
        "id": "6-MJ00FNJ583"
      },
      "source": [
        "fpr, tpr, thresholds = metrics.roc_curve(y_test, y_predict3)\n",
        "print(\"threshold values\",fpr, tpr, thresholds)\n",
        "plt.plot(fpr, tpr)\n",
        "plt.xlim([0.0, 1.0])\n",
        "plt.ylim([0.0, 1.0])\n",
        "plt.title('ROC curve for XGB Tuned classifier')\n",
        "plt.xlabel('False Positive Rate (1 - Specificity)')\n",
        "plt.ylabel('True Positive Rate (Sensitivity)')\n",
        "plt.grid(True)\n",
        "plt.show()\n",
        "print(metrics.roc_auc_score(y_test,y_predict5))"
      ],
      "execution_count": null,
      "outputs": []
    },
    {
      "cell_type": "markdown",
      "metadata": {
        "id": "xUiPkp_bKexo"
      },
      "source": [
        "# Predicting Test Data"
      ]
    },
    {
      "cell_type": "code",
      "metadata": {
        "id": "gHPj0zFSKjxq"
      },
      "source": [
        "test_csv = pd.read_csv(\"data/property_insurance_test_data - property_insurance_test_data.csv\")"
      ],
      "execution_count": null,
      "outputs": []
    },
    {
      "cell_type": "code",
      "metadata": {
        "id": "7b1YK1J3Kj1m"
      },
      "source": [
        "test_csv.shape"
      ],
      "execution_count": null,
      "outputs": []
    },
    {
      "cell_type": "code",
      "metadata": {
        "id": "tZYuPK3kKj6m"
      },
      "source": [
        "test_csv.info()"
      ],
      "execution_count": null,
      "outputs": []
    },
    {
      "cell_type": "code",
      "metadata": {
        "id": "PzfxoThxKkG5"
      },
      "source": [
        "final_data = pd.merge(test_csv,ins_events,how='left',on=\"property_id\")"
      ],
      "execution_count": null,
      "outputs": []
    },
    {
      "cell_type": "code",
      "metadata": {
        "id": "qsLobnAcKkMV"
      },
      "source": [
        "final_data.sort_values('property_id',inplace=True)"
      ],
      "execution_count": null,
      "outputs": []
    },
    {
      "cell_type": "code",
      "metadata": {
        "id": "erQPPYb9Kkem"
      },
      "source": [
        "final_data.drop_duplicates('property_id',inplace=True)"
      ],
      "execution_count": null,
      "outputs": []
    },
    {
      "cell_type": "code",
      "metadata": {
        "id": "LPszsiASLoCS"
      },
      "source": [
        "final_data.shape"
      ],
      "execution_count": null,
      "outputs": []
    },
    {
      "cell_type": "code",
      "metadata": {
        "id": "1saSlQNTLoG_"
      },
      "source": [
        "final_data.head(2)"
      ],
      "execution_count": null,
      "outputs": []
    },
    {
      "cell_type": "code",
      "metadata": {
        "id": "XM4v_hAPLvXY"
      },
      "source": [
        "final_data.isna().sum()"
      ],
      "execution_count": null,
      "outputs": []
    },
    {
      "cell_type": "code",
      "metadata": {
        "id": "dEClp83ILzTE"
      },
      "source": [
        "final_data.drop(['water','sewer','heating_fuel_type','style'],axis=1,inplace=True)"
      ],
      "execution_count": null,
      "outputs": []
    },
    {
      "cell_type": "code",
      "metadata": {
        "id": "l6GFJCXyLzXS"
      },
      "source": [
        "final_data.dropna(subset=['event_type'], how='all', inplace=True)"
      ],
      "execution_count": null,
      "outputs": []
    },
    {
      "cell_type": "code",
      "metadata": {
        "id": "yGv9XEHPL8xg"
      },
      "source": [
        "final_data.shape"
      ],
      "execution_count": null,
      "outputs": []
    },
    {
      "cell_type": "code",
      "metadata": {
        "id": "ikQHTAy_L81b"
      },
      "source": [
        "final_data['county_fips'] = final_data['county_fips'].fillna((final_data['county_fips'].mean()))\n",
        "final_data['total_bath_count'] = final_data['total_bath_count'].fillna(0)\n",
        "final_data['year_built'] = final_data['year_built'].fillna((final_data['year_built'].mean()))\n",
        "final_data['exterior_walls'] = final_data['exterior_walls'].fillna(\"Unknown\")\n",
        "final_data['heating'] = final_data['heating'].fillna(\"none\")\n",
        "final_data['garage_type_parking'] = final_data['garage_type_parking'].fillna(\"none\")"
      ],
      "execution_count": null,
      "outputs": []
    },
    {
      "cell_type": "code",
      "metadata": {
        "id": "CgyTikmkMGnL"
      },
      "source": [
        "final_data.isna().sum()"
      ],
      "execution_count": null,
      "outputs": []
    },
    {
      "cell_type": "code",
      "metadata": {
        "id": "5cM0SvZmTIhD"
      },
      "source": [
        "reserve_data = final_data"
      ],
      "execution_count": null,
      "outputs": []
    },
    {
      "cell_type": "code",
      "metadata": {
        "id": "GtRj8LB9MGqw"
      },
      "source": [
        "final_data = pd.concat([final_data.drop('event_type', axis=1), pd.get_dummies(final_data['event_type'],prefix='event_')], axis=1)\n",
        "final_data = pd.concat([final_data.drop('state', axis=1), pd.get_dummies(final_data['state'],prefix='state')], axis=1)\n",
        "final_data = pd.concat([final_data.drop('property_type', axis=1), pd.get_dummies(final_data['property_type'],prefix='propertytype')], axis=1)\n",
        "final_data = pd.concat([final_data.drop('exterior_walls', axis=1), pd.get_dummies(final_data['exterior_walls'],prefix='exteriorwall')], axis=1)\n",
        "final_data = pd.concat([final_data.drop('heating', axis=1), pd.get_dummies(final_data['heating'],prefix='heating')], axis=1)\n",
        "final_data = pd.concat([final_data.drop('fireplace', axis=1), pd.get_dummies(final_data['fireplace'],prefix='fireplace')], axis=1)\n",
        "final_data = pd.concat([final_data.drop('garage_type_parking', axis=1), pd.get_dummies(final_data['garage_type_parking'],prefix='garagetype')], axis=1)"
      ],
      "execution_count": null,
      "outputs": []
    },
    {
      "cell_type": "code",
      "metadata": {
        "id": "YZDVgR0TMOyh"
      },
      "source": [
        "final_data.shape"
      ],
      "execution_count": null,
      "outputs": []
    },
    {
      "cell_type": "code",
      "metadata": {
        "id": "yP_k3hPpOTJu"
      },
      "source": [
        "final_data.info()"
      ],
      "execution_count": null,
      "outputs": []
    },
    {
      "cell_type": "code",
      "metadata": {
        "id": "Iko-f-2NMO2W"
      },
      "source": [
        "X_final = final_data.drop(['property_id','record_date'],axis=1)\n",
        "X_final['garagetype_paved_surfaced'] = 0\n",
        "X_final['heating_hot_water'] = 0\n",
        "X_final['heating_radiant'] = 0\n",
        "X_final['exteriorwall_adobe'] = 0\n",
        "X_final['exteriorwall_tilt_up_pre_cast_concrete'] = 0"
      ],
      "execution_count": null,
      "outputs": []
    },
    {
      "cell_type": "markdown",
      "source": [
        "### Since Area Under ROC Curve is maximum for Random Forest Tuned classifier ,\n",
        "### so selecting it for the final prediction of Test Data..."
      ],
      "metadata": {
        "id": "vxgexJSd5j_i"
      }
    },
    {
      "cell_type": "code",
      "metadata": {
        "id": "PGsxbpIuLvcE"
      },
      "source": [
        "y_predict_final = RF_Tuned.predict(X_final)"
      ],
      "execution_count": null,
      "outputs": []
    },
    {
      "cell_type": "code",
      "metadata": {
        "id": "G0iJq8IpR_dX"
      },
      "source": [
        "len(y_predict_final)"
      ],
      "execution_count": null,
      "outputs": []
    },
    {
      "cell_type": "code",
      "metadata": {
        "id": "mG_966KIR_gt"
      },
      "source": [
        "reserve_data['risk_of_claim'] = y_predict_final"
      ],
      "execution_count": null,
      "outputs": []
    },
    {
      "cell_type": "code",
      "metadata": {
        "id": "Be2iYS8FTzpj"
      },
      "source": [
        "## Replacing risk_of_claim values with 1 -> \"high_risk\", 0 -> \"low_risk\"."
      ],
      "execution_count": null,
      "outputs": []
    },
    {
      "cell_type": "code",
      "metadata": {
        "id": "OOlpWAi9Tzs5"
      },
      "source": [
        "reserve_data['risk_of_claim'] = np.where((reserve_data.risk_of_claim == 0), \"low_risk\", reserve_data.risk_of_claim)\n",
        "reserve_data['risk_of_claim'] = np.where((reserve_data.risk_of_claim == 1), \"high_risk\", reserve_data.risk_of_claim)"
      ],
      "execution_count": null,
      "outputs": []
    },
    {
      "cell_type": "code",
      "metadata": {
        "id": "7snnsH0AUOYE"
      },
      "source": [
        "reserve_data.head(2)"
      ],
      "execution_count": null,
      "outputs": []
    },
    {
      "cell_type": "markdown",
      "source": [
        "### importing final result to csv"
      ],
      "metadata": {
        "id": "H1FJM8Xg53ur"
      }
    },
    {
      "cell_type": "code",
      "metadata": {
        "id": "9ILOMmZ1R_l4"
      },
      "source": [
        "reserve_data.to_csv(\"property_insurance_test_data_predicted\")"
      ],
      "execution_count": null,
      "outputs": []
    },
    {
      "cell_type": "markdown",
      "metadata": {
        "id": "wWt96tvmrvLC"
      },
      "source": [
        "# Training with selected 20 features here..."
      ]
    },
    {
      "cell_type": "code",
      "metadata": {
        "id": "bG6CH5dDk4Qg"
      },
      "source": [
        "X2 = property_data.loc[:,['zipcode','county_fips','building_area_sq_ft','state_FL',\n",
        "                 'propertytype_Townhouse','exteriorwall_stucco','heating_none','state_AZ',\n",
        "                 'exteriorwall_wood',\n",
        "                 'heating_yes','state_GA',\n",
        "                 'state_NV','exteriorwall_siding_alum_vinyl',\n",
        "                 'garagetype_none','state_IL',\n",
        "                 'exteriorwall_Unknown','fireplace_True','exteriorwall_wood_siding',\n",
        "                 'garagetype_attached_garage','propertytype_Condominium']]\n",
        "y2 = property_data.claims_amount"
      ],
      "execution_count": null,
      "outputs": []
    },
    {
      "cell_type": "code",
      "metadata": {
        "id": "n4Tjf7YhyZjL"
      },
      "source": [
        "X_train_smote, y_train_smote = smote.fit_sample(X2, y2)"
      ],
      "execution_count": null,
      "outputs": []
    },
    {
      "cell_type": "code",
      "metadata": {
        "id": "rYlA6Jl7yZnY"
      },
      "source": [
        "### Splitting X and y for training...\n",
        "from sklearn.model_selection import train_test_split\n",
        "X_train, X_test, y_train, y_test = train_test_split(X_train_smote,y_train_smote,\n",
        "                        test_size=0.2, random_state=10)"
      ],
      "execution_count": null,
      "outputs": []
    },
    {
      "cell_type": "code",
      "metadata": {
        "id": "T07mG2hsyZu4"
      },
      "source": [
        "### Training with Logistic Regression...\n",
        "model.fit(X_train, y_train)  # Training\n",
        "y_predict = model.predict(X_test) # Test Prediction"
      ],
      "execution_count": null,
      "outputs": []
    },
    {
      "cell_type": "code",
      "metadata": {
        "id": "qMScMchOzU5t"
      },
      "source": [
        "### Printing Accuracy\n",
        "print(accuracy_score(y_test, y_predict))\n",
        "print(classification_report(y_test,y_predict))\n",
        "pd.crosstab(y_test, y_predict)"
      ],
      "execution_count": null,
      "outputs": []
    },
    {
      "cell_type": "code",
      "metadata": {
        "id": "VHLiPC3nzU-e"
      },
      "source": [
        "xgb_model = XGBClassifier(n_estimators=45,learning_rate=0.25,random_state=100)\n",
        "xgb_model.fit(X_train,y_train)"
      ],
      "execution_count": null,
      "outputs": []
    },
    {
      "cell_type": "code",
      "metadata": {
        "id": "jltpEICGzVDq"
      },
      "source": [
        "### Printing Accuracy..\n",
        "y_predict2 = xgb_model.predict(X_test)\n",
        "print(accuracy_score(y_test, y_predict2))\n",
        "print(classification_report(y_test,y_predict2))\n",
        "pd.crosstab(y_test, y_predict2)"
      ],
      "execution_count": null,
      "outputs": []
    },
    {
      "cell_type": "code",
      "metadata": {
        "id": "S0IMQsAdz4KA"
      },
      "source": [
        "RF_model = RandomForestClassifier(max_depth=11,n_estimators=15,max_features=20,\n",
        "                                  criterion='gini',random_state=11)\n",
        "RF_model.fit(X_train,y_train)"
      ],
      "execution_count": null,
      "outputs": []
    },
    {
      "cell_type": "code",
      "metadata": {
        "id": "sXMkAwN6z6mb"
      },
      "source": [
        "### Printing Accuracy...\n",
        "y_predict3 = RF_model.predict(X_test)\n",
        "print(accuracy_score(y_test, y_predict3))\n",
        "print(classification_report(y_test,y_predict3))\n",
        "pd.crosstab(y_test, y_predict3)"
      ],
      "execution_count": null,
      "outputs": []
    },
    {
      "cell_type": "code",
      "metadata": {
        "id": "adRjh3IwJ3CA"
      },
      "source": [],
      "execution_count": null,
      "outputs": []
    },
    {
      "cell_type": "markdown",
      "source": [
        "### **Serializing the Model for deployment**"
      ],
      "metadata": {
        "id": "zz7njA__s7Gk"
      }
    },
    {
      "cell_type": "code",
      "source": [
        "import pickle"
      ],
      "metadata": {
        "id": "MGI_P-7ItGF9"
      },
      "execution_count": null,
      "outputs": []
    },
    {
      "cell_type": "code",
      "source": [
        "pickle.dump(RF_model,open(\"property_risk.pkl\",\"wb\"))"
      ],
      "metadata": {
        "id": "iH2oES4xtGbs"
      },
      "execution_count": null,
      "outputs": []
    }
  ]
}